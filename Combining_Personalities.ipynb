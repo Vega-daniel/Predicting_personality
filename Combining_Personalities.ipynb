{
 "cells": [
  {
   "cell_type": "code",
   "execution_count": 16,
   "metadata": {},
   "outputs": [],
   "source": [
    "%matplotlib inline\n",
    "import pandas as pd\n",
    "import matplotlib.pyplot as plt\n",
    "import numpy as np"
   ]
  },
  {
   "cell_type": "code",
   "execution_count": 2,
   "metadata": {},
   "outputs": [],
   "source": [
    "df = pd.read_pickle('data/sent2.pkl')"
   ]
  },
  {
   "cell_type": "code",
   "execution_count": 49,
   "metadata": {},
   "outputs": [],
   "source": [
    "def mergep(text):\n",
    "    analysts = ['INTJ','INTP','ENTJ','ENTP']\n",
    "    diplomats = ['INFJ','INFP','ENFJ','ENFP']\n",
    "    sentinels = ['ISTJ','ISFJ','ESTJ','ESFJ']\n",
    "    explorers = ['ISTP','ISFP','ESTP','ESFP']\n",
    "    if text in analysts:\n",
    "        return 'Analyst'\n",
    "    elif text in diplomats:\n",
    "        return 'Diplomat'\n",
    "    elif text in sentinels:\n",
    "        return 'Sentinel'\n",
    "    elif text in explorers:\n",
    "        return 'Explorer'\n",
    "    else:\n",
    "        return None\n",
    "    \n",
    "def cats4(text):\n",
    "    EJ = ['ENTJ','ENFJ','ESFJ','ESTJ']\n",
    "    IJ = ['INTJ','INFJ','ISTJ','ISFJ']\n",
    "    EP = ['ENTP','ENFP','ESTP','ESFP']\n",
    "    IP = ['INTP','INFP','ISTP','ISFP']\n",
    "    if text in EJ:\n",
    "        return 'EJ'\n",
    "    elif text in IJ:\n",
    "        return 'IJ'\n",
    "    elif text in EP:\n",
    "        return 'EP'\n",
    "    elif text in IP:\n",
    "        return 'IP'\n",
    "    else:\n",
    "        return None\n",
    "    \n",
    "def cat2(text):\n",
    "    if text == 'Analyst' or text == 'Explorer':\n",
    "        return \"AnEx\"\n",
    "    elif text == 'Diplomat' or text == 'Sentinel':\n",
    "        return \"DiSe\""
   ]
  },
  {
   "cell_type": "code",
   "execution_count": 4,
   "metadata": {},
   "outputs": [],
   "source": [
    "df['cat'] = df.type.apply(lambda x: mergep(x))"
   ]
  },
  {
   "cell_type": "code",
   "execution_count": 7,
   "metadata": {},
   "outputs": [
    {
     "data": {
      "text/plain": [
       "Diplomat    4167\n",
       "Analyst     3311\n",
       "Explorer     745\n",
       "Sentinel     452\n",
       "Name: cat, dtype: int64"
      ]
     },
     "execution_count": 7,
     "metadata": {},
     "output_type": "execute_result"
    }
   ],
   "source": [
    "df.cat.value_counts()"
   ]
  },
  {
   "cell_type": "code",
   "execution_count": 47,
   "metadata": {},
   "outputs": [],
   "source": [
    "df['cat4'] = df.type.apply(lambda x: cats4(x))"
   ]
  },
  {
   "cell_type": "code",
   "execution_count": 48,
   "metadata": {},
   "outputs": [
    {
     "data": {
      "text/plain": [
       "IP    3744\n",
       "IJ    2932\n",
       "EP    1497\n",
       "EJ     502\n",
       "Name: cat4, dtype: int64"
      ]
     },
     "execution_count": 48,
     "metadata": {},
     "output_type": "execute_result"
    }
   ],
   "source": [
    "df.cat4.value_counts()"
   ]
  },
  {
   "cell_type": "code",
   "execution_count": 50,
   "metadata": {},
   "outputs": [],
   "source": [
    "df['cat2'] = df.cat.apply(lambda x: cat2(x))"
   ]
  },
  {
   "cell_type": "code",
   "execution_count": 51,
   "metadata": {},
   "outputs": [
    {
     "data": {
      "text/plain": [
       "DiSe    4619\n",
       "AnEx    4056\n",
       "Name: cat2, dtype: int64"
      ]
     },
     "execution_count": 51,
     "metadata": {},
     "output_type": "execute_result"
    }
   ],
   "source": [
    "df.cat2.value_counts()"
   ]
  },
  {
   "cell_type": "code",
   "execution_count": 8,
   "metadata": {},
   "outputs": [],
   "source": [
    "X = df.posts\n",
    "y = df.cat"
   ]
  },
  {
   "cell_type": "code",
   "execution_count": 9,
   "metadata": {},
   "outputs": [],
   "source": [
    "from sklearn.model_selection import train_test_split\n",
    "X_train, X_test, y_train, y_test = train_test_split(X, y, test_size=0.3, random_state = 29)"
   ]
  },
  {
   "cell_type": "code",
   "execution_count": 34,
   "metadata": {},
   "outputs": [
    {
     "name": "stderr",
     "output_type": "stream",
     "text": [
      "/anaconda3/lib/python3.7/site-packages/sklearn/linear_model/stochastic_gradient.py:183: FutureWarning: max_iter and tol parameters have been added in SGDClassifier in 0.19. If max_iter is set but tol is left unset, the default value for tol in 0.19 and 0.20 will be None (which is equivalent to -infinity, so it has no effect) but will change in 0.21 to 1e-3. Specify tol to silence this warning.\n",
      "  FutureWarning)\n"
     ]
    },
    {
     "name": "stdout",
     "output_type": "stream",
     "text": [
      "CPU times: user 3 µs, sys: 0 ns, total: 3 µs\n",
      "Wall time: 7.15 µs\n",
      "accuracy 0.7548981943910872\n",
      "              precision    recall  f1-score   support\n",
      "\n",
      "     Analyst       0.75      0.82      0.78      1013\n",
      "    Diplomat       0.76      0.89      0.82      1243\n",
      "    Explorer       0.82      0.08      0.15       217\n",
      "    Sentinel       1.00      0.05      0.09       130\n",
      "\n",
      "   micro avg       0.75      0.75      0.75      2603\n",
      "   macro avg       0.83      0.46      0.46      2603\n",
      "weighted avg       0.77      0.75      0.71      2603\n",
      "\n",
      "[[ 831  182    0    0]\n",
      " [ 129 1110    4    0]\n",
      " [  91  108   18    0]\n",
      " [  58   66    0    6]]\n"
     ]
    }
   ],
   "source": [
    "from sklearn.pipeline import Pipeline\n",
    "from sklearn.feature_extraction.text import CountVectorizer, TfidfVectorizer,TfidfTransformer\n",
    "from sklearn.metrics import accuracy_score, confusion_matrix, classification_report\n",
    "from sklearn.linear_model import SGDClassifier\n",
    "\n",
    "sgd = Pipeline([('vect', CountVectorizer()),\n",
    "                ('tfidf', TfidfTransformer()),\n",
    "                ('clf', SGDClassifier(loss='hinge', penalty='l2',alpha=1e-3, random_state=42, max_iter=5, tol=None)),\n",
    "               ])\n",
    "sgd.fit(X_train, y_train)\n",
    "\n",
    "%time\n",
    "\n",
    "y_pred = sgd.predict(X_test)\n",
    "\n",
    "print('accuracy %s' % accuracy_score(y_pred, y_test))\n",
    "print(classification_report(y_test, y_pred))\n",
    "print(confusion_matrix(y_test,y_pred))"
   ]
  },
  {
   "cell_type": "code",
   "execution_count": 13,
   "metadata": {},
   "outputs": [
    {
     "name": "stdout",
     "output_type": "stream",
     "text": [
      "CPU times: user 3 µs, sys: 1 µs, total: 4 µs\n",
      "Wall time: 6.2 µs\n",
      "accuracy 0.7429888590088359\n",
      "              precision    recall  f1-score   support\n",
      "\n",
      "     Analyst       0.80      0.69      0.74      1013\n",
      "    Diplomat       0.71      0.91      0.80      1243\n",
      "    Explorer       0.82      0.35      0.49       217\n",
      "    Sentinel       0.68      0.25      0.36       130\n",
      "\n",
      "   micro avg       0.74      0.74      0.74      2603\n",
      "   macro avg       0.75      0.55      0.60      2603\n",
      "weighted avg       0.75      0.74      0.73      2603\n",
      "\n"
     ]
    }
   ],
   "source": [
    "from sklearn.ensemble import GradientBoostingClassifier\n",
    "gbc = Pipeline([('vect', CountVectorizer()),\n",
    "                ('tfidf', TfidfTransformer()),\n",
    "                ('clf', GradientBoostingClassifier(n_estimators=100, learning_rate=.01,\n",
    "                                 max_depth=3, random_state=29)),\n",
    "               ])\n",
    "\n",
    "gbc.fit(X_train,y_train)\n",
    "\n",
    "%time\n",
    "\n",
    "y_pred = gbc.predict(X_test)\n",
    "\n",
    "print('accuracy %s' % accuracy_score(y_pred, y_test))\n",
    "print(classification_report(y_test, y_pred))\n",
    "print(confusion_matrix(y_test,y_pred))"
   ]
  },
  {
   "cell_type": "code",
   "execution_count": 35,
   "metadata": {},
   "outputs": [],
   "source": [
    "from sklearn.preprocessing import LabelEncoder\n",
    "\n",
    "from tensorflow import keras\n",
    "from tensorflow.keras.models import Sequential\n",
    "from tensorflow.keras.layers import Dense, Activation, Dropout\n",
    "from tensorflow.keras.preprocessing import text\n",
    "from tensorflow.keras import utils\n",
    "\n",
    "max_words = 2000\n",
    "tokenize = text.Tokenizer(num_words=max_words, char_level=False)\n",
    "tokenize.fit_on_texts(X_train)\n",
    "\n",
    "x_train = tokenize.texts_to_matrix(X_train)\n",
    "x_test = tokenize.texts_to_matrix(X_test)\n",
    "\n",
    "encoder = LabelEncoder()\n",
    "encoder.fit(y_train)\n",
    "Y_train = encoder.transform(y_train)\n",
    "Y_test = encoder.transform(y_test)\n",
    "\n",
    "num_classes = np.max(Y_train) + 1\n",
    "Y_train = utils.to_categorical(Y_train, num_classes)\n",
    "Y_test = utils.to_categorical(Y_test, num_classes)"
   ]
  },
  {
   "cell_type": "code",
   "execution_count": 43,
   "metadata": {},
   "outputs": [
    {
     "name": "stdout",
     "output_type": "stream",
     "text": [
      "Train on 5464 samples, validate on 608 samples\n",
      "Epoch 1/8\n",
      "5464/5464 [==============================] - 1s 195us/sample - loss: 1.2038 - accuracy: 0.5071 - val_loss: 0.9625 - val_accuracy: 0.6464\n",
      "Epoch 2/8\n",
      "5464/5464 [==============================] - 1s 131us/sample - loss: 0.8615 - accuracy: 0.6790 - val_loss: 0.8654 - val_accuracy: 0.6562\n",
      "Epoch 3/8\n",
      "5464/5464 [==============================] - 1s 189us/sample - loss: 0.7372 - accuracy: 0.7233 - val_loss: 0.8289 - val_accuracy: 0.6727\n",
      "Epoch 4/8\n",
      "5464/5464 [==============================] - 1s 146us/sample - loss: 0.6342 - accuracy: 0.7637 - val_loss: 0.8205 - val_accuracy: 0.6743\n",
      "Epoch 5/8\n",
      "5464/5464 [==============================] - 1s 134us/sample - loss: 0.5427 - accuracy: 0.7994 - val_loss: 0.8190 - val_accuracy: 0.6727\n",
      "Epoch 6/8\n",
      "5464/5464 [==============================] - 1s 138us/sample - loss: 0.4667 - accuracy: 0.8300 - val_loss: 0.8213 - val_accuracy: 0.6875\n",
      "Epoch 7/8\n",
      "5464/5464 [==============================] - 1s 146us/sample - loss: 0.3958 - accuracy: 0.8633 - val_loss: 0.8156 - val_accuracy: 0.6793\n",
      "Epoch 8/8\n",
      "5464/5464 [==============================] - 1s 171us/sample - loss: 0.3396 - accuracy: 0.8948 - val_loss: 0.8238 - val_accuracy: 0.6743\n"
     ]
    },
    {
     "data": {
      "text/plain": [
       "<tensorflow.python.keras.callbacks.History at 0x1a3dd837b8>"
      ]
     },
     "execution_count": 43,
     "metadata": {},
     "output_type": "execute_result"
    }
   ],
   "source": [
    "batch_size = 500\n",
    "epochs = 8\n",
    "\n",
    "# Build the model\n",
    "model = Sequential()\n",
    "model.add(Dense(500, input_shape=(max_words,)))\n",
    "model.add(Activation('relu'))\n",
    "model.add(Dropout(0.5))\n",
    "model.add(Dense(num_classes))\n",
    "model.add(Activation('softmax'))\n",
    "\n",
    "model.compile(loss='categorical_crossentropy',\n",
    "              optimizer='adam',\n",
    "              metrics=['accuracy'])\n",
    "              \n",
    "model.fit(x_train, Y_train,\n",
    "            batch_size=batch_size,\n",
    "            epochs=epochs,\n",
    "            verbose=1,\n",
    "            validation_split=0.1)"
   ]
  },
  {
   "cell_type": "code",
   "execution_count": 44,
   "metadata": {},
   "outputs": [],
   "source": [
    "y_pred = model.predict_classes(x_test)\n",
    "y_test2 =[]\n",
    "for i in range(len(Y_test)):\n",
    "    y_test2.append(Y_test[i].argmax())"
   ]
  },
  {
   "cell_type": "code",
   "execution_count": 45,
   "metadata": {},
   "outputs": [
    {
     "name": "stdout",
     "output_type": "stream",
     "text": [
      "accuracy 0.708029197080292\n",
      "              precision    recall  f1-score   support\n",
      "\n",
      "           0       0.71      0.74      0.72      1013\n",
      "           1       0.72      0.84      0.78      1243\n",
      "           2       0.54      0.21      0.30       217\n",
      "           3       0.47      0.06      0.11       130\n",
      "\n",
      "   micro avg       0.71      0.71      0.71      2603\n",
      "   macro avg       0.61      0.46      0.48      2603\n",
      "weighted avg       0.69      0.71      0.68      2603\n",
      "\n",
      "[[ 747  249   14    3]\n",
      " [ 179 1042   19    3]\n",
      " [  72   96   46    3]\n",
      " [  58   58    6    8]]\n"
     ]
    }
   ],
   "source": [
    "print('accuracy %s' % accuracy_score(y_pred, y_test2))\n",
    "print(classification_report(y_test2, y_pred))\n",
    "print(confusion_matrix(y_test2,y_pred))"
   ]
  },
  {
   "cell_type": "code",
   "execution_count": 52,
   "metadata": {},
   "outputs": [],
   "source": [
    "X = df.posts\n",
    "y = df.cat2\n",
    "X_train, X_test, y_train, y_test = train_test_split(X, y, test_size=0.3, random_state = 29)"
   ]
  },
  {
   "cell_type": "code",
   "execution_count": 53,
   "metadata": {},
   "outputs": [
    {
     "name": "stderr",
     "output_type": "stream",
     "text": [
      "/anaconda3/lib/python3.7/site-packages/sklearn/linear_model/stochastic_gradient.py:183: FutureWarning: max_iter and tol parameters have been added in SGDClassifier in 0.19. If max_iter is set but tol is left unset, the default value for tol in 0.19 and 0.20 will be None (which is equivalent to -infinity, so it has no effect) but will change in 0.21 to 1e-3. Specify tol to silence this warning.\n",
      "  FutureWarning)\n"
     ]
    },
    {
     "name": "stdout",
     "output_type": "stream",
     "text": [
      "CPU times: user 4 µs, sys: 1e+03 ns, total: 5 µs\n",
      "Wall time: 7.87 µs\n",
      "accuracy 0.8321167883211679\n",
      "              precision    recall  f1-score   support\n",
      "\n",
      "        AnEx       0.82      0.83      0.82      1230\n",
      "        DiSe       0.84      0.84      0.84      1373\n",
      "\n",
      "   micro avg       0.83      0.83      0.83      2603\n",
      "   macro avg       0.83      0.83      0.83      2603\n",
      "weighted avg       0.83      0.83      0.83      2603\n",
      "\n",
      "[[1015  215]\n",
      " [ 222 1151]]\n"
     ]
    }
   ],
   "source": [
    "sgd.fit(X_train, y_train)\n",
    "\n",
    "%time\n",
    "\n",
    "y_pred = sgd.predict(X_test)\n",
    "\n",
    "print('accuracy %s' % accuracy_score(y_pred, y_test))\n",
    "print(classification_report(y_test, y_pred))\n",
    "print(confusion_matrix(y_test,y_pred))"
   ]
  },
  {
   "cell_type": "code",
   "execution_count": 54,
   "metadata": {},
   "outputs": [
    {
     "name": "stdout",
     "output_type": "stream",
     "text": [
      "CPU times: user 2 µs, sys: 1e+03 ns, total: 3 µs\n",
      "Wall time: 6.91 µs\n",
      "accuracy 0.7737226277372263\n",
      "              precision    recall  f1-score   support\n",
      "\n",
      "        AnEx       0.78      0.73      0.75      1230\n",
      "        DiSe       0.77      0.81      0.79      1373\n",
      "\n",
      "   micro avg       0.77      0.77      0.77      2603\n",
      "   macro avg       0.77      0.77      0.77      2603\n",
      "weighted avg       0.77      0.77      0.77      2603\n",
      "\n",
      "[[ 899  331]\n",
      " [ 258 1115]]\n"
     ]
    }
   ],
   "source": [
    "gbc.fit(X_train,y_train)\n",
    "\n",
    "%time\n",
    "\n",
    "y_pred = gbc.predict(X_test)\n",
    "\n",
    "print('accuracy %s' % accuracy_score(y_pred, y_test))\n",
    "print(classification_report(y_test, y_pred))\n",
    "print(confusion_matrix(y_test,y_pred))"
   ]
  },
  {
   "cell_type": "code",
   "execution_count": 55,
   "metadata": {},
   "outputs": [],
   "source": [
    "tokenize = text.Tokenizer(num_words=max_words, char_level=False)\n",
    "tokenize.fit_on_texts(X_train)\n",
    "\n",
    "x_train = tokenize.texts_to_matrix(X_train)\n",
    "x_test = tokenize.texts_to_matrix(X_test)\n",
    "\n",
    "encoder = LabelEncoder()\n",
    "encoder.fit(y_train)\n",
    "Y_train = encoder.transform(y_train)\n",
    "Y_test = encoder.transform(y_test)\n",
    "\n",
    "num_classes = np.max(Y_train) + 1\n",
    "Y_train = utils.to_categorical(Y_train, num_classes)\n",
    "Y_test = utils.to_categorical(Y_test, num_classes)"
   ]
  },
  {
   "cell_type": "code",
   "execution_count": 56,
   "metadata": {},
   "outputs": [
    {
     "name": "stdout",
     "output_type": "stream",
     "text": [
      "Train on 5464 samples, validate on 608 samples\n",
      "Epoch 1/8\n",
      "5464/5464 [==============================] - 2s 291us/sample - loss: 0.8441 - accuracy: 0.5496 - val_loss: 0.5980 - val_accuracy: 0.6809\n",
      "Epoch 2/8\n",
      "5464/5464 [==============================] - 1s 200us/sample - loss: 0.5827 - accuracy: 0.6945 - val_loss: 0.5855 - val_accuracy: 0.6809\n",
      "Epoch 3/8\n",
      "5464/5464 [==============================] - 1s 210us/sample - loss: 0.4842 - accuracy: 0.7764 - val_loss: 0.4900 - val_accuracy: 0.7648\n",
      "Epoch 4/8\n",
      "5464/5464 [==============================] - 1s 166us/sample - loss: 0.4033 - accuracy: 0.8208 - val_loss: 0.4620 - val_accuracy: 0.7697\n",
      "Epoch 5/8\n",
      "5464/5464 [==============================] - 1s 195us/sample - loss: 0.3487 - accuracy: 0.8565 - val_loss: 0.4951 - val_accuracy: 0.7566\n",
      "Epoch 6/8\n",
      "5464/5464 [==============================] - 1s 157us/sample - loss: 0.3058 - accuracy: 0.8779 - val_loss: 0.4549 - val_accuracy: 0.7780\n",
      "Epoch 7/8\n",
      "5464/5464 [==============================] - 1s 151us/sample - loss: 0.2604 - accuracy: 0.9085 - val_loss: 0.4779 - val_accuracy: 0.7681\n",
      "Epoch 8/8\n",
      "5464/5464 [==============================] - 1s 148us/sample - loss: 0.2157 - accuracy: 0.9305 - val_loss: 0.4758 - val_accuracy: 0.7829\n"
     ]
    },
    {
     "data": {
      "text/plain": [
       "<tensorflow.python.keras.callbacks.History at 0x1a21a750f0>"
      ]
     },
     "execution_count": 56,
     "metadata": {},
     "output_type": "execute_result"
    }
   ],
   "source": [
    "batch_size = 500\n",
    "epochs = 8\n",
    "\n",
    "# Build the model\n",
    "model = Sequential()\n",
    "model.add(Dense(500, input_shape=(max_words,)))\n",
    "model.add(Activation('relu'))\n",
    "model.add(Dropout(0.5))\n",
    "model.add(Dense(num_classes))\n",
    "model.add(Activation('softmax'))\n",
    "\n",
    "model.compile(loss='categorical_crossentropy',\n",
    "              optimizer='adam',\n",
    "              metrics=['accuracy'])\n",
    "              \n",
    "model.fit(x_train, Y_train,\n",
    "            batch_size=batch_size,\n",
    "            epochs=epochs,\n",
    "            verbose=1,\n",
    "            validation_split=0.1)"
   ]
  },
  {
   "cell_type": "code",
   "execution_count": 57,
   "metadata": {},
   "outputs": [],
   "source": [
    "y_pred = model.predict_classes(x_test)\n",
    "y_test2 =[]\n",
    "for i in range(len(Y_test)):\n",
    "    y_test2.append(Y_test[i].argmax())"
   ]
  },
  {
   "cell_type": "code",
   "execution_count": 58,
   "metadata": {},
   "outputs": [
    {
     "name": "stdout",
     "output_type": "stream",
     "text": [
      "accuracy 0.7591240875912408\n",
      "              precision    recall  f1-score   support\n",
      "\n",
      "           0       0.75      0.74      0.74      1230\n",
      "           1       0.77      0.77      0.77      1373\n",
      "\n",
      "   micro avg       0.76      0.76      0.76      2603\n",
      "   macro avg       0.76      0.76      0.76      2603\n",
      "weighted avg       0.76      0.76      0.76      2603\n",
      "\n",
      "[[ 914  316]\n",
      " [ 311 1062]]\n"
     ]
    }
   ],
   "source": [
    "print('accuracy %s' % accuracy_score(y_pred, y_test2))\n",
    "print(classification_report(y_test2, y_pred))\n",
    "print(confusion_matrix(y_test2,y_pred))"
   ]
  },
  {
   "cell_type": "code",
   "execution_count": null,
   "metadata": {},
   "outputs": [],
   "source": []
  }
 ],
 "metadata": {
  "kernelspec": {
   "display_name": "Python 3",
   "language": "python",
   "name": "python3"
  },
  "language_info": {
   "codemirror_mode": {
    "name": "ipython",
    "version": 3
   },
   "file_extension": ".py",
   "mimetype": "text/x-python",
   "name": "python",
   "nbconvert_exporter": "python",
   "pygments_lexer": "ipython3",
   "version": "3.7.1"
  }
 },
 "nbformat": 4,
 "nbformat_minor": 2
}
