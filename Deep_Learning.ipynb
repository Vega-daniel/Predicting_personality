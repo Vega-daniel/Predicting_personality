{
 "cells": [
  {
   "cell_type": "code",
   "execution_count": 1,
   "metadata": {},
   "outputs": [],
   "source": [
    "import pandas as pd"
   ]
  },
  {
   "cell_type": "markdown",
   "metadata": {},
   "source": [
    "- Let's import our clean dataset"
   ]
  },
  {
   "cell_type": "code",
   "execution_count": 2,
   "metadata": {},
   "outputs": [],
   "source": [
    "sent2 = pd.read_pickle('data/sent2.pkl')"
   ]
  },
  {
   "cell_type": "code",
   "execution_count": 3,
   "metadata": {},
   "outputs": [],
   "source": [
    "%matplotlib inline\n",
    "import matplotlib.pyplot as plt\n",
    "import numpy as np\n",
    "\n",
    "from sklearn.preprocessing import LabelEncoder\n",
    "from sklearn.metrics import confusion_matrix, accuracy_score, classification_report\n",
    "\n",
    "from tensorflow import keras\n",
    "from tensorflow.keras.models import Sequential\n",
    "from tensorflow.keras.layers import Dense, Activation, Dropout\n",
    "from tensorflow.keras.preprocessing import text\n",
    "from tensorflow.keras import utils\n",
    "\n",
    "train_size = int(len(sent2) * .7)\n",
    "train_posts = sent2['posts'][:train_size]\n",
    "train_types = sent2['type'][:train_size]\n",
    "\n",
    "test_posts = sent2['posts'][train_size:]\n",
    "test_types = sent2['type'][train_size:]\n",
    "\n",
    "max_words = 1000\n",
    "tokenize = text.Tokenizer(num_words=max_words, char_level=False)\n",
    "tokenize.fit_on_texts(train_posts)\n",
    "\n",
    "x_train = tokenize.texts_to_matrix(train_posts)\n",
    "x_test = tokenize.texts_to_matrix(test_types)\n",
    "\n",
    "encoder = LabelEncoder()\n",
    "encoder.fit(train_types)\n",
    "y_train = encoder.transform(train_types)\n",
    "y_test = encoder.transform(test_types)\n",
    "\n",
    "num_classes = np.max(y_train) + 1\n",
    "y_train = utils.to_categorical(y_train, num_classes)\n",
    "y_test = utils.to_categorical(y_test, num_classes)"
   ]
  },
  {
   "cell_type": "code",
   "execution_count": 4,
   "metadata": {},
   "outputs": [
    {
     "name": "stderr",
     "output_type": "stream",
     "text": [
      "WARNING: Logging before flag parsing goes to stderr.\n",
      "W0701 10:33:42.689453 4521600448 deprecation.py:323] From /anaconda3/lib/python3.7/site-packages/tensorflow/python/ops/math_grad.py:1250: add_dispatch_support.<locals>.wrapper (from tensorflow.python.ops.array_ops) is deprecated and will be removed in a future version.\n",
      "Instructions for updating:\n",
      "Use tf.where in 2.0, which has the same broadcast rule as np.where\n"
     ]
    },
    {
     "name": "stdout",
     "output_type": "stream",
     "text": [
      "Train on 5464 samples, validate on 608 samples\n",
      "Epoch 1/15\n",
      "5464/5464 [==============================] - 1s 213us/sample - loss: 2.4850 - accuracy: 0.1929 - val_loss: 2.1920 - val_accuracy: 0.2681\n",
      "Epoch 2/15\n",
      "5464/5464 [==============================] - 0s 73us/sample - loss: 2.1296 - accuracy: 0.3038 - val_loss: 2.0748 - val_accuracy: 0.3273\n",
      "Epoch 3/15\n",
      "5464/5464 [==============================] - 0s 72us/sample - loss: 1.9342 - accuracy: 0.3847 - val_loss: 1.9656 - val_accuracy: 0.3635\n",
      "Epoch 4/15\n",
      "5464/5464 [==============================] - 0s 72us/sample - loss: 1.7675 - accuracy: 0.4358 - val_loss: 1.9017 - val_accuracy: 0.4112\n",
      "Epoch 5/15\n",
      "5464/5464 [==============================] - 1s 93us/sample - loss: 1.6130 - accuracy: 0.4865 - val_loss: 1.8392 - val_accuracy: 0.4211\n",
      "Epoch 6/15\n",
      "5464/5464 [==============================] - 1s 110us/sample - loss: 1.4673 - accuracy: 0.5350 - val_loss: 1.7947 - val_accuracy: 0.4359\n",
      "Epoch 7/15\n",
      "5464/5464 [==============================] - 0s 75us/sample - loss: 1.3326 - accuracy: 0.5763 - val_loss: 1.7579 - val_accuracy: 0.4474\n",
      "Epoch 8/15\n",
      "5464/5464 [==============================] - 0s 77us/sample - loss: 1.2175 - accuracy: 0.6193 - val_loss: 1.7407 - val_accuracy: 0.4441\n",
      "Epoch 9/15\n",
      "5464/5464 [==============================] - 1s 92us/sample - loss: 1.0984 - accuracy: 0.6609 - val_loss: 1.7087 - val_accuracy: 0.4605\n",
      "Epoch 10/15\n",
      "5464/5464 [==============================] - 1s 128us/sample - loss: 0.9911 - accuracy: 0.7000 - val_loss: 1.6980 - val_accuracy: 0.4589\n",
      "Epoch 11/15\n",
      "5464/5464 [==============================] - 0s 82us/sample - loss: 0.9050 - accuracy: 0.7359 - val_loss: 1.7050 - val_accuracy: 0.4622\n",
      "Epoch 12/15\n",
      "5464/5464 [==============================] - 0s 80us/sample - loss: 0.8043 - accuracy: 0.7767 - val_loss: 1.7059 - val_accuracy: 0.4852\n",
      "Epoch 13/15\n",
      "5464/5464 [==============================] - 0s 82us/sample - loss: 0.7211 - accuracy: 0.8016 - val_loss: 1.7092 - val_accuracy: 0.4671\n",
      "Epoch 14/15\n",
      "5464/5464 [==============================] - 0s 80us/sample - loss: 0.6592 - accuracy: 0.8228 - val_loss: 1.7060 - val_accuracy: 0.4655\n",
      "Epoch 15/15\n",
      "5464/5464 [==============================] - 0s 81us/sample - loss: 0.5957 - accuracy: 0.8430 - val_loss: 1.7296 - val_accuracy: 0.4737\n"
     ]
    }
   ],
   "source": [
    "batch_size = 500\n",
    "epochs = 15\n",
    "\n",
    "# Build the model\n",
    "model = Sequential()\n",
    "model.add(Dense(500, input_shape=(max_words,)))\n",
    "model.add(Activation('relu'))\n",
    "model.add(Dropout(0.5))\n",
    "model.add(Dense(num_classes))\n",
    "model.add(Activation('softmax'))\n",
    "\n",
    "model.compile(loss='categorical_crossentropy',\n",
    "              optimizer='adam',\n",
    "              metrics=['accuracy'])\n",
    "              \n",
    "history = model.fit(x_train, y_train,\n",
    "                    batch_size=batch_size,\n",
    "                    epochs=epochs,\n",
    "                    verbose=1,\n",
    "                    validation_split=0.1)"
   ]
  },
  {
   "cell_type": "code",
   "execution_count": 5,
   "metadata": {},
   "outputs": [],
   "source": [
    "y_pred = model.predict_classes(x_test)"
   ]
  },
  {
   "cell_type": "code",
   "execution_count": 6,
   "metadata": {},
   "outputs": [],
   "source": [
    "y_test2 =[]\n",
    "for i in range(len(y_test)):\n",
    "    y_test2.append(y_test[i].argmax())"
   ]
  },
  {
   "cell_type": "code",
   "execution_count": 7,
   "metadata": {},
   "outputs": [
    {
     "name": "stdout",
     "output_type": "stream",
     "text": [
      "accuracy 0.9865539761813292\n",
      "              precision    recall  f1-score   support\n",
      "\n",
      "           0       1.00      1.00      1.00        54\n",
      "           1       1.00      1.00      1.00       214\n",
      "           2       1.00      1.00      1.00        77\n",
      "           3       1.00      1.00      1.00       186\n",
      "           4       0.00      0.00      0.00        11\n",
      "           5       0.00      0.00      0.00        15\n",
      "           6       0.00      0.00      0.00         9\n",
      "           7       1.00      1.00      1.00        21\n",
      "           8       1.00      1.00      1.00       425\n",
      "           9       0.98      1.00      0.99       538\n",
      "          10       0.93      1.00      0.96       327\n",
      "          11       1.00      1.00      1.00       408\n",
      "          12       1.00      1.00      1.00        53\n",
      "          13       1.00      1.00      1.00        88\n",
      "          14       1.00      1.00      1.00        69\n",
      "          15       1.00      1.00      1.00       108\n",
      "\n",
      "   micro avg       0.99      0.99      0.99      2603\n",
      "   macro avg       0.81      0.81      0.81      2603\n",
      "weighted avg       0.97      0.99      0.98      2603\n",
      "\n"
     ]
    },
    {
     "name": "stderr",
     "output_type": "stream",
     "text": [
      "/anaconda3/lib/python3.7/site-packages/sklearn/metrics/classification.py:1143: UndefinedMetricWarning: Precision and F-score are ill-defined and being set to 0.0 in labels with no predicted samples.\n",
      "  'precision', 'predicted', average, warn_for)\n"
     ]
    }
   ],
   "source": [
    "from sklearn.metrics import accuracy_score,classification_report\n",
    "print('accuracy %s' % accuracy_score(y_pred, y_test2))\n",
    "print(classification_report(y_test2, y_pred))"
   ]
  },
  {
   "cell_type": "code",
   "execution_count": 8,
   "metadata": {},
   "outputs": [],
   "source": [
    "mykey= {0:'ENFJ',1:'ENFP',2:'ENTJ',3:'ENTP',4:'ESFJ',5:'ESFP',6:'ESTJ',7:'ESTP',8:\"INFJ\",9: 'INFP',10:'INTJ',11:'INTP',12:'ISFJ',13:'ISFP',14:'ISTJ',15:'ISTP'}"
   ]
  },
  {
   "cell_type": "code",
   "execution_count": null,
   "metadata": {},
   "outputs": [],
   "source": []
  }
 ],
 "metadata": {
  "kernelspec": {
   "display_name": "Python 3",
   "language": "python",
   "name": "python3"
  },
  "language_info": {
   "codemirror_mode": {
    "name": "ipython",
    "version": 3
   },
   "file_extension": ".py",
   "mimetype": "text/x-python",
   "name": "python",
   "nbconvert_exporter": "python",
   "pygments_lexer": "ipython3",
   "version": "3.7.1"
  }
 },
 "nbformat": 4,
 "nbformat_minor": 2
}
