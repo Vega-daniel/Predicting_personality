{
 "cells": [
  {
   "cell_type": "code",
   "execution_count": 1,
   "metadata": {},
   "outputs": [],
   "source": [
    "import pandas as pd"
   ]
  },
  {
   "cell_type": "markdown",
   "metadata": {},
   "source": [
    "- Let's import our clean dataset"
   ]
  },
  {
   "cell_type": "code",
   "execution_count": 2,
   "metadata": {},
   "outputs": [],
   "source": [
    "sent2 = pd.read_pickle('data/overview.pkl')"
   ]
  },
  {
   "cell_type": "code",
   "execution_count": 4,
   "metadata": {},
   "outputs": [],
   "source": [
    "more = ['like','think','infj','feel','know','one','think','realli','thing','get','entp','intp','intj','would','entj','enfj','isfp','feel','istp','infp','enfp','esfj','estj','esfp','estp','istj','isfj','type','becaus','peopl','time']\n",
    "\n",
    "def filter_tokens(string):\n",
    "    return ([w for w in string.split() if not w in more])"
   ]
  },
  {
   "cell_type": "code",
   "execution_count": 6,
   "metadata": {},
   "outputs": [],
   "source": [
    "sent2['posts2'] = sent2.posts.apply(lambda x: filter_tokens(x))"
   ]
  },
  {
   "cell_type": "code",
   "execution_count": 7,
   "metadata": {},
   "outputs": [],
   "source": [
    "%matplotlib inline\n",
    "import matplotlib.pyplot as plt\n",
    "import numpy as np\n",
    "\n",
    "from sklearn.preprocessing import LabelEncoder\n",
    "from sklearn.metrics import confusion_matrix, accuracy_score, classification_report\n",
    "from sklearn.model_selection import train_test_split\n",
    "\n",
    "from tensorflow import keras\n",
    "from tensorflow.keras.models import Sequential\n",
    "from tensorflow.keras.layers import Dense, Activation, Dropout\n",
    "from tensorflow.keras.preprocessing import text\n",
    "from tensorflow.keras import utils\n",
    "\n",
    "train_size = int(len(sent2) * .7)\n",
    "train_posts = sent2['posts2'][:train_size]\n",
    "train_types = sent2['type'][:train_size]\n",
    "\n",
    "test_posts = sent2['posts2'][train_size:]\n",
    "test_types = sent2['type'][train_size:]\n",
    "\n",
    "max_words = 1000\n",
    "tokenize = text.Tokenizer(num_words=max_words, char_level=False)\n",
    "tokenize.fit_on_texts(train_posts)\n",
    "\n",
    "x_train = tokenize.texts_to_matrix(train_posts)\n",
    "x_test = tokenize.texts_to_matrix(test_types)\n",
    "\n",
    "encoder = LabelEncoder()\n",
    "encoder.fit(train_types)\n",
    "y_train = encoder.transform(train_types)\n",
    "y_test = encoder.transform(test_types)\n",
    "\n",
    "num_classes = np.max(y_train) + 1\n",
    "y_train = utils.to_categorical(y_train, num_classes)\n",
    "y_test = utils.to_categorical(y_test, num_classes)"
   ]
  },
  {
   "cell_type": "code",
   "execution_count": 36,
   "metadata": {},
   "outputs": [
    {
     "name": "stdout",
     "output_type": "stream",
     "text": [
      "Train on 5464 samples, validate on 608 samples\n",
      "Epoch 1/15\n",
      "5464/5464 [==============================] - 5s 911us/sample - loss: 2.4204 - accuracy: 0.1887 - val_loss: 2.3356 - val_accuracy: 0.2615\n",
      "Epoch 2/15\n",
      "5464/5464 [==============================] - 4s 732us/sample - loss: 2.3115 - accuracy: 0.1989 - val_loss: 2.3135 - val_accuracy: 0.1875\n",
      "Epoch 3/15\n",
      "5464/5464 [==============================] - 4s 664us/sample - loss: 2.2637 - accuracy: 0.2191 - val_loss: 2.2682 - val_accuracy: 0.2829\n",
      "Epoch 4/15\n",
      "5464/5464 [==============================] - 4s 676us/sample - loss: 2.1916 - accuracy: 0.2520 - val_loss: 2.1541 - val_accuracy: 0.3076\n",
      "Epoch 5/15\n",
      "5464/5464 [==============================] - 4s 672us/sample - loss: 2.1142 - accuracy: 0.2818 - val_loss: 2.0975 - val_accuracy: 0.3240\n",
      "Epoch 6/15\n",
      "5464/5464 [==============================] - 4s 679us/sample - loss: 2.0543 - accuracy: 0.3000 - val_loss: 2.0618 - val_accuracy: 0.3207\n",
      "Epoch 7/15\n",
      "5464/5464 [==============================] - 4s 681us/sample - loss: 1.9817 - accuracy: 0.3254 - val_loss: 2.0702 - val_accuracy: 0.3454\n",
      "Epoch 8/15\n",
      "5464/5464 [==============================] - 4s 679us/sample - loss: 1.9041 - accuracy: 0.3644 - val_loss: 2.0422 - val_accuracy: 0.3405\n",
      "Epoch 9/15\n",
      "5464/5464 [==============================] - 4s 688us/sample - loss: 1.8408 - accuracy: 0.3777 - val_loss: 2.0400 - val_accuracy: 0.3520\n",
      "Epoch 10/15\n",
      "5464/5464 [==============================] - 4s 696us/sample - loss: 1.7718 - accuracy: 0.4107 - val_loss: 2.0846 - val_accuracy: 0.3026\n",
      "Epoch 11/15\n",
      "5464/5464 [==============================] - 4s 693us/sample - loss: 1.6985 - accuracy: 0.4380 - val_loss: 2.0815 - val_accuracy: 0.3092\n",
      "Epoch 12/15\n",
      "5464/5464 [==============================] - 4s 679us/sample - loss: 1.5989 - accuracy: 0.4722 - val_loss: 2.0815 - val_accuracy: 0.3388\n",
      "Epoch 13/15\n",
      "5464/5464 [==============================] - 4s 664us/sample - loss: 1.5078 - accuracy: 0.4971 - val_loss: 2.1268 - val_accuracy: 0.3125\n",
      "Epoch 14/15\n",
      "5464/5464 [==============================] - 4s 668us/sample - loss: 1.4200 - accuracy: 0.5249 - val_loss: 2.1708 - val_accuracy: 0.3076\n",
      "Epoch 15/15\n",
      "5464/5464 [==============================] - 4s 689us/sample - loss: 1.2986 - accuracy: 0.5732 - val_loss: 2.2063 - val_accuracy: 0.3059\n"
     ]
    },
    {
     "data": {
      "text/plain": [
       "<tensorflow.python.keras.callbacks.History at 0x1a702c8748>"
      ]
     },
     "execution_count": 36,
     "metadata": {},
     "output_type": "execute_result"
    }
   ],
   "source": [
    "batch_size = 50\n",
    "epochs = 15\n",
    "\n",
    "# Build the model\n",
    "model = Sequential()\n",
    "model.add(Dense(1000, input_shape=(max_words,)))\n",
    "model.add(Activation('relu'))\n",
    "model.add(Dropout(0.5))\n",
    "model.add(Dense(1000))\n",
    "model.add(Activation('relu'))\n",
    "model.add(Dropout(0.5))\n",
    "model.add(Dense(500))\n",
    "model.add(Activation('relu'))\n",
    "model.add(Dropout(0.5))\n",
    "model.add(Dense(50))\n",
    "model.add(Activation('relu'))\n",
    "model.add(Dense(num_classes))\n",
    "model.add(Activation('softmax'))\n",
    "\n",
    "model.compile(loss='categorical_crossentropy',\n",
    "              optimizer='adamax',\n",
    "              metrics=['accuracy'])\n",
    "              \n",
    "model.fit(x_train, y_train,\n",
    "                    batch_size=batch_size,\n",
    "                    epochs=epochs,\n",
    "                    verbose=1,\n",
    "                    validation_split=0.1)"
   ]
  },
  {
   "cell_type": "code",
   "execution_count": 29,
   "metadata": {},
   "outputs": [],
   "source": [
    "y_pred = model.predict_classes(x_test)"
   ]
  },
  {
   "cell_type": "code",
   "execution_count": 30,
   "metadata": {},
   "outputs": [],
   "source": [
    "y_test2 =[]\n",
    "for i in range(len(y_test)):\n",
    "    y_test2.append(y_test[i].argmax())"
   ]
  },
  {
   "cell_type": "code",
   "execution_count": 31,
   "metadata": {
    "scrolled": false
   },
   "outputs": [
    {
     "name": "stdout",
     "output_type": "stream",
     "text": [
      "accuracy 0.16327314636957357\n",
      "              precision    recall  f1-score   support\n",
      "\n",
      "           0       0.00      0.00      0.00        54\n",
      "           1       0.00      0.00      0.00       214\n",
      "           2       0.00      0.00      0.00        77\n",
      "           3       0.00      0.00      0.00       186\n",
      "           4       0.00      0.00      0.00        11\n",
      "           5       0.00      0.00      0.00        15\n",
      "           6       0.00      0.00      0.00         9\n",
      "           7       0.00      0.00      0.00        21\n",
      "           8       0.16      1.00      0.28       425\n",
      "           9       0.00      0.00      0.00       538\n",
      "          10       0.00      0.00      0.00       327\n",
      "          11       0.00      0.00      0.00       408\n",
      "          12       0.00      0.00      0.00        53\n",
      "          13       0.00      0.00      0.00        88\n",
      "          14       0.00      0.00      0.00        69\n",
      "          15       0.00      0.00      0.00       108\n",
      "\n",
      "    accuracy                           0.16      2603\n",
      "   macro avg       0.01      0.06      0.02      2603\n",
      "weighted avg       0.03      0.16      0.05      2603\n",
      "\n",
      "[[  0   0   0   0   0   0   0   0  54   0   0   0   0   0   0   0]\n",
      " [  0   0   0   0   0   0   0   0 214   0   0   0   0   0   0   0]\n",
      " [  0   0   0   0   0   0   0   0  77   0   0   0   0   0   0   0]\n",
      " [  0   0   0   0   0   0   0   0 186   0   0   0   0   0   0   0]\n",
      " [  0   0   0   0   0   0   0   0  11   0   0   0   0   0   0   0]\n",
      " [  0   0   0   0   0   0   0   0  15   0   0   0   0   0   0   0]\n",
      " [  0   0   0   0   0   0   0   0   9   0   0   0   0   0   0   0]\n",
      " [  0   0   0   0   0   0   0   0  21   0   0   0   0   0   0   0]\n",
      " [  0   0   0   0   0   0   0   0 425   0   0   0   0   0   0   0]\n",
      " [  0   0   0   0   0   0   0   0 538   0   0   0   0   0   0   0]\n",
      " [  0   0   0   0   0   0   0   0 327   0   0   0   0   0   0   0]\n",
      " [  0   0   0   0   0   0   0   0 408   0   0   0   0   0   0   0]\n",
      " [  0   0   0   0   0   0   0   0  53   0   0   0   0   0   0   0]\n",
      " [  0   0   0   0   0   0   0   0  88   0   0   0   0   0   0   0]\n",
      " [  0   0   0   0   0   0   0   0  69   0   0   0   0   0   0   0]\n",
      " [  0   0   0   0   0   0   0   0 108   0   0   0   0   0   0   0]]\n"
     ]
    }
   ],
   "source": [
    "from sklearn.metrics import accuracy_score,classification_report\n",
    "print('accuracy %s' % accuracy_score(y_pred, y_test2))\n",
    "print(classification_report(y_test2, y_pred))\n",
    "print(confusion_matrix(y_test2,y_pred))"
   ]
  },
  {
   "cell_type": "code",
   "execution_count": 8,
   "metadata": {},
   "outputs": [],
   "source": [
    "mykey= {0:'ENFJ',1:'ENFP',2:'ENTJ',3:'ENTP',4:'ESFJ',5:'ESFP',6:'ESTJ',7:'ESTP',8:\"INFJ\",9: 'INFP',10:'INTJ',11:'INTP',12:'ISFJ',13:'ISFP',14:'ISTJ',15:'ISTP'}"
   ]
  },
  {
   "cell_type": "code",
   "execution_count": 5,
   "metadata": {},
   "outputs": [],
   "source": [
    "me = \"I think I've learned a lot of information in this class, I can do so much more than when I started this cohort but I know I'm still not at my best. I have a lot to learn and I will put the effort in to get there.that moment when you realize your model predicts the same thing over and over. not a good feeling\""
   ]
  },
  {
   "cell_type": "code",
   "execution_count": 37,
   "metadata": {},
   "outputs": [
    {
     "data": {
      "text/plain": [
       "10.0"
      ]
     },
     "execution_count": 37,
     "metadata": {},
     "output_type": "execute_result"
    }
   ],
   "source": [
    "np.median(model.predict_classes(tokenize.texts_to_matrix(me)))"
   ]
  },
  {
   "cell_type": "code",
   "execution_count": 29,
   "metadata": {},
   "outputs": [
    {
     "data": {
      "text/plain": [
       "10.0"
      ]
     },
     "execution_count": 29,
     "metadata": {},
     "output_type": "execute_result"
    }
   ],
   "source": [
    "notme = \"that moment when you realize your model predicts the same thing over and over. not a good feeling\"\n",
    "\n",
    "np.median(model.predict_classes(tokenize.texts_to_matrix(notme)))"
   ]
  },
  {
   "cell_type": "code",
   "execution_count": 38,
   "metadata": {},
   "outputs": [],
   "source": [
    "def PersonalityCheck(string):\n",
    "    mykey= {0:'ENFJ',1:'ENFP',2:'ENTJ',3:'ENTP',4:'ESFJ',5:'ESFP',6:'ESTJ',7:'ESTP',\n",
    "            8:\"INFJ\",9: 'INFP',10:'INTJ',11:'INTP',12:'ISFJ',13:'ISFP',14:'ISTJ',15:'ISTP'}\n",
    "    pred = np.median(model.predict_classes(tokenize.texts_to_matrix(string)))\n",
    "    return mykey[pred]"
   ]
  },
  {
   "cell_type": "code",
   "execution_count": 40,
   "metadata": {},
   "outputs": [
    {
     "data": {
      "text/plain": [
       "'INTJ'"
      ]
     },
     "execution_count": 40,
     "metadata": {},
     "output_type": "execute_result"
    }
   ],
   "source": [
    "PersonalityCheck(me)"
   ]
  },
  {
   "cell_type": "code",
   "execution_count": 43,
   "metadata": {},
   "outputs": [],
   "source": [
    "# model.save(\"PersonalityPredictor.h5\")"
   ]
  },
  {
   "cell_type": "code",
   "execution_count": 44,
   "metadata": {},
   "outputs": [],
   "source": [
    "# pickle.dump(tokenize,open('tokenize.p','wb'))"
   ]
  },
  {
   "cell_type": "code",
   "execution_count": null,
   "metadata": {},
   "outputs": [],
   "source": []
  }
 ],
 "metadata": {
  "kernelspec": {
   "display_name": "Python 3",
   "language": "python",
   "name": "python3"
  },
  "language_info": {
   "codemirror_mode": {
    "name": "ipython",
    "version": 3
   },
   "file_extension": ".py",
   "mimetype": "text/x-python",
   "name": "python",
   "nbconvert_exporter": "python",
   "pygments_lexer": "ipython3",
   "version": "3.7.1"
  }
 },
 "nbformat": 4,
 "nbformat_minor": 2
}
