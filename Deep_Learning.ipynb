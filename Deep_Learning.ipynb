{
 "cells": [
  {
   "cell_type": "code",
   "execution_count": 1,
   "metadata": {},
   "outputs": [],
   "source": [
    "import pandas as pd"
   ]
  },
  {
   "cell_type": "markdown",
   "metadata": {},
   "source": [
    "- Let's import our clean dataset"
   ]
  },
  {
   "cell_type": "code",
   "execution_count": 2,
   "metadata": {},
   "outputs": [],
   "source": [
    "sent2 = pd.read_pickle('data/sent2.pkl')"
   ]
  },
  {
   "cell_type": "code",
   "execution_count": 3,
   "metadata": {},
   "outputs": [],
   "source": [
    "%matplotlib inline\n",
    "import matplotlib.pyplot as plt\n",
    "import numpy as np\n",
    "\n",
    "from sklearn.preprocessing import LabelEncoder\n",
    "from sklearn.metrics import confusion_matrix, accuracy_score, classification_report\n",
    "from sklearn.model_selection import train_test_split\n",
    "\n",
    "from tensorflow import keras\n",
    "from tensorflow.keras.models import Sequential\n",
    "from tensorflow.keras.layers import Dense, Activation, Dropout\n",
    "from tensorflow.keras.preprocessing import text\n",
    "from tensorflow.keras import utils\n",
    "\n",
    "train_size = int(len(sent2) * .7)\n",
    "train_posts = sent2['posts'][:train_size]\n",
    "train_types = sent2['type'][:train_size]\n",
    "\n",
    "test_posts = sent2['posts'][train_size:]\n",
    "test_types = sent2['type'][train_size:]\n",
    "\n",
    "max_words = 1000\n",
    "tokenize = text.Tokenizer(num_words=max_words, char_level=False)\n",
    "tokenize.fit_on_texts(train_posts)\n",
    "\n",
    "x_train = tokenize.texts_to_matrix(train_posts)\n",
    "x_test = tokenize.texts_to_matrix(test_types)\n",
    "\n",
    "encoder = LabelEncoder()\n",
    "encoder.fit(train_types)\n",
    "y_train = encoder.transform(train_types)\n",
    "y_test = encoder.transform(test_types)\n",
    "\n",
    "num_classes = np.max(y_train) + 1\n",
    "y_train = utils.to_categorical(y_train, num_classes)\n",
    "y_test = utils.to_categorical(y_test, num_classes)"
   ]
  },
  {
   "cell_type": "code",
   "execution_count": 4,
   "metadata": {},
   "outputs": [
    {
     "name": "stderr",
     "output_type": "stream",
     "text": [
      "WARNING: Logging before flag parsing goes to stderr.\n",
      "W0709 13:22:44.315134 4515620288 deprecation.py:323] From /anaconda3/lib/python3.7/site-packages/tensorflow/python/ops/math_grad.py:1250: add_dispatch_support.<locals>.wrapper (from tensorflow.python.ops.array_ops) is deprecated and will be removed in a future version.\n",
      "Instructions for updating:\n",
      "Use tf.where in 2.0, which has the same broadcast rule as np.where\n"
     ]
    },
    {
     "name": "stdout",
     "output_type": "stream",
     "text": [
      "Train on 5464 samples, validate on 608 samples\n",
      "Epoch 1/15\n",
      "5464/5464 [==============================] - 1s 151us/sample - loss: 2.4839 - accuracy: 0.1852 - val_loss: 2.2144 - val_accuracy: 0.2895\n",
      "Epoch 2/15\n",
      "5464/5464 [==============================] - 0s 72us/sample - loss: 2.1376 - accuracy: 0.3082 - val_loss: 2.1111 - val_accuracy: 0.3224\n",
      "Epoch 3/15\n",
      "5464/5464 [==============================] - 0s 72us/sample - loss: 1.9602 - accuracy: 0.3774 - val_loss: 1.9962 - val_accuracy: 0.3618\n",
      "Epoch 4/15\n",
      "5464/5464 [==============================] - 0s 72us/sample - loss: 1.7803 - accuracy: 0.4310 - val_loss: 1.9137 - val_accuracy: 0.3931\n",
      "Epoch 5/15\n",
      "5464/5464 [==============================] - 0s 75us/sample - loss: 1.6194 - accuracy: 0.4945 - val_loss: 1.8800 - val_accuracy: 0.3832\n",
      "Epoch 6/15\n",
      "5464/5464 [==============================] - 0s 82us/sample - loss: 1.4713 - accuracy: 0.5480 - val_loss: 1.8144 - val_accuracy: 0.4161\n",
      "Epoch 7/15\n",
      "5464/5464 [==============================] - 0s 82us/sample - loss: 1.3502 - accuracy: 0.5752 - val_loss: 1.7746 - val_accuracy: 0.4276\n",
      "Epoch 8/15\n",
      "5464/5464 [==============================] - 0s 77us/sample - loss: 1.2144 - accuracy: 0.6298 - val_loss: 1.7447 - val_accuracy: 0.4342\n",
      "Epoch 9/15\n",
      "5464/5464 [==============================] - 1s 120us/sample - loss: 1.0960 - accuracy: 0.6700 - val_loss: 1.7236 - val_accuracy: 0.4457\n",
      "Epoch 10/15\n",
      "5464/5464 [==============================] - 0s 74us/sample - loss: 1.0097 - accuracy: 0.6883 - val_loss: 1.7328 - val_accuracy: 0.4408\n",
      "Epoch 11/15\n",
      "5464/5464 [==============================] - 0s 83us/sample - loss: 0.9133 - accuracy: 0.7291 - val_loss: 1.7139 - val_accuracy: 0.4556\n",
      "Epoch 12/15\n",
      "5464/5464 [==============================] - 0s 75us/sample - loss: 0.8194 - accuracy: 0.7674 - val_loss: 1.7043 - val_accuracy: 0.4457\n",
      "Epoch 13/15\n",
      "5464/5464 [==============================] - 0s 73us/sample - loss: 0.7350 - accuracy: 0.7943 - val_loss: 1.7195 - val_accuracy: 0.4638\n",
      "Epoch 14/15\n",
      "5464/5464 [==============================] - 0s 74us/sample - loss: 0.6670 - accuracy: 0.8159 - val_loss: 1.7112 - val_accuracy: 0.4507\n",
      "Epoch 15/15\n",
      "5464/5464 [==============================] - 0s 77us/sample - loss: 0.6071 - accuracy: 0.8426 - val_loss: 1.7522 - val_accuracy: 0.4539\n"
     ]
    },
    {
     "data": {
      "text/plain": [
       "<tensorflow.python.keras.callbacks.History at 0x1a34958b70>"
      ]
     },
     "execution_count": 4,
     "metadata": {},
     "output_type": "execute_result"
    }
   ],
   "source": [
    "batch_size = 500\n",
    "epochs = 15\n",
    "\n",
    "# Build the model\n",
    "model = Sequential()\n",
    "model.add(Dense(500, input_shape=(max_words,)))\n",
    "model.add(Activation('relu'))\n",
    "model.add(Dropout(0.5))\n",
    "model.add(Dense(num_classes))\n",
    "model.add(Activation('softmax'))\n",
    "\n",
    "model.compile(loss='categorical_crossentropy',\n",
    "              optimizer='adam',\n",
    "              metrics=['accuracy'])\n",
    "              \n",
    "model.fit(x_train, y_train,\n",
    "                    batch_size=batch_size,\n",
    "                    epochs=epochs,\n",
    "                    verbose=1,\n",
    "                    validation_split=0.1)"
   ]
  },
  {
   "cell_type": "code",
   "execution_count": 5,
   "metadata": {},
   "outputs": [],
   "source": [
    "y_pred = model.predict_classes(x_test)"
   ]
  },
  {
   "cell_type": "code",
   "execution_count": 6,
   "metadata": {},
   "outputs": [],
   "source": [
    "y_test2 =[]\n",
    "for i in range(len(y_test)):\n",
    "    y_test2.append(y_test[i].argmax())"
   ]
  },
  {
   "cell_type": "code",
   "execution_count": 7,
   "metadata": {
    "scrolled": false
   },
   "outputs": [
    {
     "name": "stdout",
     "output_type": "stream",
     "text": [
      "accuracy 0.9865539761813292\n",
      "              precision    recall  f1-score   support\n",
      "\n",
      "           0       1.00      1.00      1.00        54\n",
      "           1       1.00      1.00      1.00       214\n",
      "           2       1.00      1.00      1.00        77\n",
      "           3       1.00      1.00      1.00       186\n",
      "           4       0.00      0.00      0.00        11\n",
      "           5       0.00      0.00      0.00        15\n",
      "           6       0.00      0.00      0.00         9\n",
      "           7       1.00      1.00      1.00        21\n",
      "           8       1.00      1.00      1.00       425\n",
      "           9       0.98      1.00      0.99       538\n",
      "          10       0.96      1.00      0.98       327\n",
      "          11       0.97      1.00      0.99       408\n",
      "          12       1.00      1.00      1.00        53\n",
      "          13       1.00      1.00      1.00        88\n",
      "          14       1.00      1.00      1.00        69\n",
      "          15       1.00      1.00      1.00       108\n",
      "\n",
      "    accuracy                           0.99      2603\n",
      "   macro avg       0.81      0.81      0.81      2603\n",
      "weighted avg       0.97      0.99      0.98      2603\n",
      "\n",
      "[[ 54   0   0   0   0   0   0   0   0   0   0   0   0   0   0   0]\n",
      " [  0 214   0   0   0   0   0   0   0   0   0   0   0   0   0   0]\n",
      " [  0   0  77   0   0   0   0   0   0   0   0   0   0   0   0   0]\n",
      " [  0   0   0 186   0   0   0   0   0   0   0   0   0   0   0   0]\n",
      " [  0   0   0   0   0   0   0   0   0   0   0  11   0   0   0   0]\n",
      " [  0   0   0   0   0   0   0   0   0   0  15   0   0   0   0   0]\n",
      " [  0   0   0   0   0   0   0   0   0   9   0   0   0   0   0   0]\n",
      " [  0   0   0   0   0   0   0  21   0   0   0   0   0   0   0   0]\n",
      " [  0   0   0   0   0   0   0   0 425   0   0   0   0   0   0   0]\n",
      " [  0   0   0   0   0   0   0   0   0 538   0   0   0   0   0   0]\n",
      " [  0   0   0   0   0   0   0   0   0   0 327   0   0   0   0   0]\n",
      " [  0   0   0   0   0   0   0   0   0   0   0 408   0   0   0   0]\n",
      " [  0   0   0   0   0   0   0   0   0   0   0   0  53   0   0   0]\n",
      " [  0   0   0   0   0   0   0   0   0   0   0   0   0  88   0   0]\n",
      " [  0   0   0   0   0   0   0   0   0   0   0   0   0   0  69   0]\n",
      " [  0   0   0   0   0   0   0   0   0   0   0   0   0   0   0 108]]\n"
     ]
    },
    {
     "name": "stderr",
     "output_type": "stream",
     "text": [
      "/anaconda3/lib/python3.7/site-packages/sklearn/metrics/classification.py:1437: UndefinedMetricWarning: Precision and F-score are ill-defined and being set to 0.0 in labels with no predicted samples.\n",
      "  'precision', 'predicted', average, warn_for)\n"
     ]
    }
   ],
   "source": [
    "from sklearn.metrics import accuracy_score,classification_report\n",
    "print('accuracy %s' % accuracy_score(y_pred, y_test2))\n",
    "print(classification_report(y_test2, y_pred))\n",
    "print(confusion_matrix(y_test2,y_pred))"
   ]
  },
  {
   "cell_type": "code",
   "execution_count": 8,
   "metadata": {},
   "outputs": [],
   "source": [
    "mykey= {0:'ENFJ',1:'ENFP',2:'ENTJ',3:'ENTP',4:'ESFJ',5:'ESFP',6:'ESTJ',7:'ESTP',8:\"INFJ\",9: 'INFP',10:'INTJ',11:'INTP',12:'ISFJ',13:'ISFP',14:'ISTJ',15:'ISTP'}"
   ]
  },
  {
   "cell_type": "code",
   "execution_count": 5,
   "metadata": {},
   "outputs": [],
   "source": [
    "me = \"I think I've learned a lot of information in this class, I can do so much more than when I started this cohort but I know I'm still not at my best. I have a lot to learn and I will put the effort in to get there.that moment when you realize your model predicts the same thing over and over. not a good feeling\""
   ]
  },
  {
   "cell_type": "code",
   "execution_count": 37,
   "metadata": {},
   "outputs": [
    {
     "data": {
      "text/plain": [
       "10.0"
      ]
     },
     "execution_count": 37,
     "metadata": {},
     "output_type": "execute_result"
    }
   ],
   "source": [
    "np.median(model.predict_classes(tokenize.texts_to_matrix(me)))"
   ]
  },
  {
   "cell_type": "code",
   "execution_count": 29,
   "metadata": {},
   "outputs": [
    {
     "data": {
      "text/plain": [
       "10.0"
      ]
     },
     "execution_count": 29,
     "metadata": {},
     "output_type": "execute_result"
    }
   ],
   "source": [
    "notme = \"that moment when you realize your model predicts the same thing over and over. not a good feeling\"\n",
    "\n",
    "np.median(model.predict_classes(tokenize.texts_to_matrix(notme)))"
   ]
  },
  {
   "cell_type": "code",
   "execution_count": 38,
   "metadata": {},
   "outputs": [],
   "source": [
    "def PersonalityCheck(string):\n",
    "    mykey= {0:'ENFJ',1:'ENFP',2:'ENTJ',3:'ENTP',4:'ESFJ',5:'ESFP',6:'ESTJ',7:'ESTP',\n",
    "            8:\"INFJ\",9: 'INFP',10:'INTJ',11:'INTP',12:'ISFJ',13:'ISFP',14:'ISTJ',15:'ISTP'}\n",
    "    pred = np.median(model.predict_classes(tokenize.texts_to_matrix(string)))\n",
    "    return mykey[pred]"
   ]
  },
  {
   "cell_type": "code",
   "execution_count": 40,
   "metadata": {},
   "outputs": [
    {
     "data": {
      "text/plain": [
       "'INTJ'"
      ]
     },
     "execution_count": 40,
     "metadata": {},
     "output_type": "execute_result"
    }
   ],
   "source": [
    "PersonalityCheck(me)"
   ]
  },
  {
   "cell_type": "code",
   "execution_count": 43,
   "metadata": {},
   "outputs": [],
   "source": [
    "# model.save(\"PersonalityPredictor.h5\")"
   ]
  },
  {
   "cell_type": "code",
   "execution_count": 44,
   "metadata": {},
   "outputs": [],
   "source": [
    "# pickle.dump(tokenize,open('tokenize.p','wb'))"
   ]
  },
  {
   "cell_type": "code",
   "execution_count": null,
   "metadata": {},
   "outputs": [],
   "source": []
  }
 ],
 "metadata": {
  "kernelspec": {
   "display_name": "Python 3",
   "language": "python",
   "name": "python3"
  },
  "language_info": {
   "codemirror_mode": {
    "name": "ipython",
    "version": 3
   },
   "file_extension": ".py",
   "mimetype": "text/x-python",
   "name": "python",
   "nbconvert_exporter": "python",
   "pygments_lexer": "ipython3",
   "version": "3.7.1"
  }
 },
 "nbformat": 4,
 "nbformat_minor": 2
}
