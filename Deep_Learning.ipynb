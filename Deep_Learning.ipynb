{
 "cells": [
  {
   "cell_type": "code",
   "execution_count": 1,
   "metadata": {},
   "outputs": [],
   "source": [
    "import pandas as pd"
   ]
  },
  {
   "cell_type": "markdown",
   "metadata": {},
   "source": [
    "- Let's import our clean dataset"
   ]
  },
  {
   "cell_type": "code",
   "execution_count": 2,
   "metadata": {},
   "outputs": [],
   "source": [
    "sent2 = pd.read_pickle('data/sent2.pkl')"
   ]
  },
  {
   "cell_type": "code",
   "execution_count": 3,
   "metadata": {},
   "outputs": [],
   "source": [
    "%matplotlib inline\n",
    "import matplotlib.pyplot as plt\n",
    "import numpy as np\n",
    "\n",
    "from sklearn.preprocessing import LabelEncoder\n",
    "from sklearn.metrics import confusion_matrix, accuracy_score, classification_report\n",
    "from sklearn.model_selection import train_test_split\n",
    "\n",
    "from tensorflow import keras\n",
    "from tensorflow.keras.models import Sequential\n",
    "from tensorflow.keras.layers import Dense, Activation, Dropout\n",
    "from tensorflow.keras.preprocessing import text\n",
    "from tensorflow.keras import utils\n",
    "\n",
    "train_size = int(len(sent2) * .7)\n",
    "train_posts = sent2['posts'][:train_size]\n",
    "train_types = sent2['type'][:train_size]\n",
    "\n",
    "test_posts = sent2['posts'][train_size:]\n",
    "test_types = sent2['type'][train_size:]\n",
    "\n",
    "max_words = 1000\n",
    "tokenize = text.Tokenizer(num_words=max_words, char_level=False)\n",
    "tokenize.fit_on_texts(train_posts)\n",
    "\n",
    "x_train = tokenize.texts_to_matrix(train_posts)\n",
    "x_test = tokenize.texts_to_matrix(test_types)\n",
    "\n",
    "encoder = LabelEncoder()\n",
    "encoder.fit(train_types)\n",
    "y_train = encoder.transform(train_types)\n",
    "y_test = encoder.transform(test_types)\n",
    "\n",
    "num_classes = np.max(y_train) + 1\n",
    "y_train = utils.to_categorical(y_train, num_classes)\n",
    "y_test = utils.to_categorical(y_test, num_classes)"
   ]
  },
  {
   "cell_type": "code",
   "execution_count": 4,
   "metadata": {},
   "outputs": [
    {
     "name": "stderr",
     "output_type": "stream",
     "text": [
      "WARNING: Logging before flag parsing goes to stderr.\n",
      "W0701 10:50:25.155490 4498281920 deprecation.py:323] From /anaconda3/lib/python3.7/site-packages/tensorflow/python/ops/math_grad.py:1250: add_dispatch_support.<locals>.wrapper (from tensorflow.python.ops.array_ops) is deprecated and will be removed in a future version.\n",
      "Instructions for updating:\n",
      "Use tf.where in 2.0, which has the same broadcast rule as np.where\n"
     ]
    },
    {
     "name": "stdout",
     "output_type": "stream",
     "text": [
      "Train on 5464 samples, validate on 608 samples\n",
      "Epoch 1/15\n",
      "5464/5464 [==============================] - 1s 145us/sample - loss: 2.4782 - accuracy: 0.1991 - val_loss: 2.1955 - val_accuracy: 0.2812\n",
      "Epoch 2/15\n",
      "5464/5464 [==============================] - 0s 70us/sample - loss: 2.1100 - accuracy: 0.3115 - val_loss: 2.0877 - val_accuracy: 0.3372\n",
      "Epoch 3/15\n",
      "5464/5464 [==============================] - 0s 72us/sample - loss: 1.9169 - accuracy: 0.3810 - val_loss: 1.9740 - val_accuracy: 0.3635\n",
      "Epoch 4/15\n",
      "5464/5464 [==============================] - 0s 76us/sample - loss: 1.7535 - accuracy: 0.4420 - val_loss: 1.9146 - val_accuracy: 0.3832\n",
      "Epoch 5/15\n",
      "5464/5464 [==============================] - 0s 72us/sample - loss: 1.5921 - accuracy: 0.4892 - val_loss: 1.8605 - val_accuracy: 0.3898\n",
      "Epoch 6/15\n",
      "5464/5464 [==============================] - 0s 73us/sample - loss: 1.4654 - accuracy: 0.5328 - val_loss: 1.8272 - val_accuracy: 0.4095\n",
      "Epoch 7/15\n",
      "5464/5464 [==============================] - 0s 72us/sample - loss: 1.3223 - accuracy: 0.5878 - val_loss: 1.7758 - val_accuracy: 0.4178\n",
      "Epoch 8/15\n",
      "5464/5464 [==============================] - 0s 74us/sample - loss: 1.2213 - accuracy: 0.6252 - val_loss: 1.7518 - val_accuracy: 0.4375\n",
      "Epoch 9/15\n",
      "5464/5464 [==============================] - 0s 74us/sample - loss: 1.0937 - accuracy: 0.6649 - val_loss: 1.7362 - val_accuracy: 0.4227\n",
      "Epoch 10/15\n",
      "5464/5464 [==============================] - 0s 72us/sample - loss: 0.9990 - accuracy: 0.6967 - val_loss: 1.7197 - val_accuracy: 0.4391\n",
      "Epoch 11/15\n",
      "5464/5464 [==============================] - 0s 72us/sample - loss: 0.9055 - accuracy: 0.7310 - val_loss: 1.7190 - val_accuracy: 0.4457\n",
      "Epoch 12/15\n",
      "5464/5464 [==============================] - 0s 72us/sample - loss: 0.8148 - accuracy: 0.7613 - val_loss: 1.7158 - val_accuracy: 0.4589\n",
      "Epoch 13/15\n",
      "5464/5464 [==============================] - 0s 72us/sample - loss: 0.7462 - accuracy: 0.7901 - val_loss: 1.7249 - val_accuracy: 0.4605\n",
      "Epoch 14/15\n",
      "5464/5464 [==============================] - 0s 73us/sample - loss: 0.6715 - accuracy: 0.8131 - val_loss: 1.7502 - val_accuracy: 0.4441\n",
      "Epoch 15/15\n",
      "5464/5464 [==============================] - 0s 74us/sample - loss: 0.6100 - accuracy: 0.8391 - val_loss: 1.7517 - val_accuracy: 0.4589\n"
     ]
    }
   ],
   "source": [
    "batch_size = 500\n",
    "epochs = 15\n",
    "\n",
    "# Build the model\n",
    "model = Sequential()\n",
    "model.add(Dense(500, input_shape=(max_words,)))\n",
    "model.add(Activation('relu'))\n",
    "model.add(Dropout(0.5))\n",
    "model.add(Dense(num_classes))\n",
    "model.add(Activation('softmax'))\n",
    "\n",
    "model.compile(loss='categorical_crossentropy',\n",
    "              optimizer='adam',\n",
    "              metrics=['accuracy'])\n",
    "              \n",
    "model.fit(x_train, y_train,\n",
    "                    batch_size=batch_size,\n",
    "                    epochs=epochs,\n",
    "                    verbose=1,\n",
    "                    validation_split=0.1)"
   ]
  },
  {
   "cell_type": "code",
   "execution_count": 5,
   "metadata": {},
   "outputs": [],
   "source": [
    "y_pred = model.predict_classes(x_test)"
   ]
  },
  {
   "cell_type": "code",
   "execution_count": 6,
   "metadata": {},
   "outputs": [],
   "source": [
    "y_test2 =[]\n",
    "for i in range(len(y_test)):\n",
    "    y_test2.append(y_test[i].argmax())"
   ]
  },
  {
   "cell_type": "code",
   "execution_count": 7,
   "metadata": {},
   "outputs": [
    {
     "name": "stdout",
     "output_type": "stream",
     "text": [
      "accuracy 0.9923165578179024\n",
      "              precision    recall  f1-score   support\n",
      "\n",
      "           0       1.00      1.00      1.00        54\n",
      "           1       1.00      1.00      1.00       214\n",
      "           2       1.00      1.00      1.00        77\n",
      "           3       1.00      1.00      1.00       186\n",
      "           4       0.00      0.00      0.00        11\n",
      "           5       1.00      1.00      1.00        15\n",
      "           6       0.00      0.00      0.00         9\n",
      "           7       1.00      1.00      1.00        21\n",
      "           8       1.00      1.00      1.00       425\n",
      "           9       0.98      1.00      0.99       538\n",
      "          10       1.00      1.00      1.00       327\n",
      "          11       0.97      1.00      0.99       408\n",
      "          12       1.00      1.00      1.00        53\n",
      "          13       1.00      1.00      1.00        88\n",
      "          14       1.00      1.00      1.00        69\n",
      "          15       1.00      1.00      1.00       108\n",
      "\n",
      "   micro avg       0.99      0.99      0.99      2603\n",
      "   macro avg       0.87      0.88      0.87      2603\n",
      "weighted avg       0.98      0.99      0.99      2603\n",
      "\n"
     ]
    },
    {
     "name": "stderr",
     "output_type": "stream",
     "text": [
      "/anaconda3/lib/python3.7/site-packages/sklearn/metrics/classification.py:1143: UndefinedMetricWarning: Precision and F-score are ill-defined and being set to 0.0 in labels with no predicted samples.\n",
      "  'precision', 'predicted', average, warn_for)\n"
     ]
    }
   ],
   "source": [
    "from sklearn.metrics import accuracy_score,classification_report\n",
    "print('accuracy %s' % accuracy_score(y_pred, y_test2))\n",
    "print(classification_report(y_test2, y_pred))"
   ]
  },
  {
   "cell_type": "code",
   "execution_count": 8,
   "metadata": {},
   "outputs": [],
   "source": [
    "mykey= {0:'ENFJ',1:'ENFP',2:'ENTJ',3:'ENTP',4:'ESFJ',5:'ESFP',6:'ESTJ',7:'ESTP',8:\"INFJ\",9: 'INFP',10:'INTJ',11:'INTP',12:'ISFJ',13:'ISFP',14:'ISTJ',15:'ISTP'}"
   ]
  },
  {
   "cell_type": "code",
   "execution_count": null,
   "metadata": {},
   "outputs": [],
   "source": []
  },
  {
   "cell_type": "code",
   "execution_count": null,
   "metadata": {},
   "outputs": [],
   "source": []
  }
 ],
 "metadata": {
  "kernelspec": {
   "display_name": "Python 3",
   "language": "python",
   "name": "python3"
  },
  "language_info": {
   "codemirror_mode": {
    "name": "ipython",
    "version": 3
   },
   "file_extension": ".py",
   "mimetype": "text/x-python",
   "name": "python",
   "nbconvert_exporter": "python",
   "pygments_lexer": "ipython3",
   "version": "3.7.1"
  }
 },
 "nbformat": 4,
 "nbformat_minor": 2
}
