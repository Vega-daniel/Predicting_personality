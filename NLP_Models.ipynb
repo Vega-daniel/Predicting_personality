{
 "cells": [
  {
   "cell_type": "code",
   "execution_count": 1,
   "metadata": {},
   "outputs": [],
   "source": [
    "from src.personality import clean_df\n",
    "import pandas as pd\n",
    "import numpy as np\n",
    "import matplotlib.pyplot as plt\n",
    "from sklearn.model_selection import train_test_split\n",
    "from sklearn.pipeline import Pipeline\n",
    "from sklearn.feature_extraction.text import CountVectorizer, TfidfVectorizer, TfidfTransformer\n",
    "from sklearn.metrics import accuracy_score, confusion_matrix, classification_report\n",
    "%matplotlib inline"
   ]
  },
  {
   "cell_type": "code",
   "execution_count": 2,
   "metadata": {},
   "outputs": [],
   "source": [
    "raw = pd.read_csv('data/mbti_1 2.csv')"
   ]
  },
  {
   "cell_type": "code",
   "execution_count": 3,
   "metadata": {},
   "outputs": [],
   "source": [
    "sentences = pipeline_sent(raw)"
   ]
  },
  {
   "cell_type": "markdown",
   "metadata": {},
   "source": [
    "# Model Selection\n",
    "- The score to beat would be random which in our case would be 1/16 = 0.0625%, that is too low of a bench mark so we want to aim for above 50%\n",
    "- Vectorize the text with the following conditions"
   ]
  },
  {
   "cell_type": "code",
   "execution_count": 4,
   "metadata": {},
   "outputs": [],
   "source": [
    "vectorize = TfidfVectorizer(lowercase=True, stop_words='english',\n",
    "                            max_features=5000,ngram_range=(1,3))\n",
    "X = vectorize.fit_transform(sentences.posts)"
   ]
  },
  {
   "cell_type": "code",
   "execution_count": 5,
   "metadata": {},
   "outputs": [],
   "source": [
    "y = sentences.type"
   ]
  },
  {
   "cell_type": "code",
   "execution_count": 6,
   "metadata": {},
   "outputs": [],
   "source": [
    "from sklearn.ensemble import RandomForestClassifier"
   ]
  },
  {
   "cell_type": "code",
   "execution_count": 7,
   "metadata": {},
   "outputs": [
    {
     "data": {
      "text/plain": [
       "RandomForestClassifier(bootstrap=True, class_weight=None, criterion='gini',\n",
       "            max_depth=5, max_features='auto', max_leaf_nodes=None,\n",
       "            min_impurity_decrease=0.0, min_impurity_split=None,\n",
       "            min_samples_leaf=1, min_samples_split=2,\n",
       "            min_weight_fraction_leaf=0.0, n_estimators=1000, n_jobs=-1,\n",
       "            oob_score=True, random_state=29, verbose=0, warm_start=False)"
      ]
     },
     "execution_count": 7,
     "metadata": {},
     "output_type": "execute_result"
    }
   ],
   "source": [
    "rf = RandomForestClassifier(n_estimators=1000,max_depth=5,random_state=29,\n",
    "                            oob_score=True,n_jobs=-1)\n",
    "rf.fit(X,y)"
   ]
  },
  {
   "cell_type": "code",
   "execution_count": 8,
   "metadata": {},
   "outputs": [
    {
     "data": {
      "text/plain": [
       "0.3614985590778098"
      ]
     },
     "execution_count": 8,
     "metadata": {},
     "output_type": "execute_result"
    }
   ],
   "source": [
    "rf.oob_score_"
   ]
  },
  {
   "cell_type": "markdown",
   "metadata": {},
   "source": [
    "- 36% is a good start but not good enough"
   ]
  },
  {
   "cell_type": "code",
   "execution_count": 2,
   "metadata": {},
   "outputs": [],
   "source": [
    "X_train,X_test,y_train,y_test = train_test_split(X,y,test_size=0.3, random_state=29)"
   ]
  },
  {
   "cell_type": "code",
   "execution_count": 10,
   "metadata": {},
   "outputs": [],
   "source": [
    "from sklearn.ensemble import GradientBoostingClassifier"
   ]
  },
  {
   "cell_type": "code",
   "execution_count": 11,
   "metadata": {},
   "outputs": [
    {
     "data": {
      "text/plain": [
       "GradientBoostingClassifier(criterion='friedman_mse', init=None,\n",
       "              learning_rate=0.01, loss='deviance', max_depth=3,\n",
       "              max_features=None, max_leaf_nodes=None,\n",
       "              min_impurity_decrease=0.0, min_impurity_split=None,\n",
       "              min_samples_leaf=1, min_samples_split=2,\n",
       "              min_weight_fraction_leaf=0.0, n_estimators=100,\n",
       "              n_iter_no_change=None, presort='auto', random_state=29,\n",
       "              subsample=1.0, tol=0.0001, validation_fraction=0.1,\n",
       "              verbose=0, warm_start=False)"
      ]
     },
     "execution_count": 11,
     "metadata": {},
     "output_type": "execute_result"
    }
   ],
   "source": [
    "gbc = GradientBoostingClassifier(n_estimators=100, learning_rate=.01,\n",
    "                                 max_depth=3, random_state=29)\n",
    "gbc.fit(X_train,y_train)"
   ]
  },
  {
   "cell_type": "code",
   "execution_count": 12,
   "metadata": {},
   "outputs": [
    {
     "data": {
      "text/plain": [
       "0.6457933154053016"
      ]
     },
     "execution_count": 12,
     "metadata": {},
     "output_type": "execute_result"
    }
   ],
   "source": [
    "gbc.score(X_test,y_test)"
   ]
  },
  {
   "cell_type": "markdown",
   "metadata": {},
   "source": [
    "- 64.6% is a very nice improvement, let's change our input and keep this model\n",
    "- Change my vectorizer to not use any stop words and ngrams to 2"
   ]
  },
  {
   "cell_type": "code",
   "execution_count": 13,
   "metadata": {},
   "outputs": [],
   "source": [
    "vectorize = TfidfVectorizer(lowercase=True, stop_words=None,\n",
    "                            max_features=5000,ngram_range=(1,2))\n",
    "X = vectorize.fit_transform(sentences.posts)"
   ]
  },
  {
   "cell_type": "code",
   "execution_count": 14,
   "metadata": {},
   "outputs": [],
   "source": [
    "X_train,X_test,y_train,y_test = train_test_split(X,y,test_size=0.3, random_state=29)"
   ]
  },
  {
   "cell_type": "code",
   "execution_count": 15,
   "metadata": {},
   "outputs": [
    {
     "data": {
      "text/plain": [
       "GradientBoostingClassifier(criterion='friedman_mse', init=None,\n",
       "              learning_rate=0.01, loss='deviance', max_depth=5,\n",
       "              max_features=None, max_leaf_nodes=None,\n",
       "              min_impurity_decrease=0.0, min_impurity_split=None,\n",
       "              min_samples_leaf=1, min_samples_split=2,\n",
       "              min_weight_fraction_leaf=0.0, n_estimators=100,\n",
       "              n_iter_no_change=None, presort='auto', random_state=29,\n",
       "              subsample=1.0, tol=0.0001, validation_fraction=0.1,\n",
       "              verbose=0, warm_start=False)"
      ]
     },
     "execution_count": 15,
     "metadata": {},
     "output_type": "execute_result"
    }
   ],
   "source": [
    "gbc = GradientBoostingClassifier(n_estimators=100, learning_rate=.01,\n",
    "                                 max_depth=5, random_state=29)\n",
    "gbc.fit(X_train,y_train)"
   ]
  },
  {
   "cell_type": "code",
   "execution_count": 16,
   "metadata": {},
   "outputs": [
    {
     "data": {
      "text/plain": [
       "0.6273530541682674"
      ]
     },
     "execution_count": 16,
     "metadata": {},
     "output_type": "execute_result"
    }
   ],
   "source": [
    "gbc.score(X_test,y_test)"
   ]
  },
  {
   "cell_type": "code",
   "execution_count": 25,
   "metadata": {},
   "outputs": [
    {
     "data": {
      "text/plain": [
       "GradientBoostingClassifier(criterion='friedman_mse', init=None,\n",
       "              learning_rate=0.01, loss='deviance', max_depth=3,\n",
       "              max_features=None, max_leaf_nodes=None,\n",
       "              min_impurity_decrease=0.0, min_impurity_split=None,\n",
       "              min_samples_leaf=1, min_samples_split=2,\n",
       "              min_weight_fraction_leaf=0.0, n_estimators=100,\n",
       "              n_iter_no_change=None, presort='auto', random_state=29,\n",
       "              subsample=1.0, tol=0.0001, validation_fraction=0.1,\n",
       "              verbose=0, warm_start=False)"
      ]
     },
     "execution_count": 25,
     "metadata": {},
     "output_type": "execute_result"
    }
   ],
   "source": [
    "gbc = GradientBoostingClassifier(n_estimators=100, learning_rate=.01,\n",
    "                                 max_depth=3, random_state=29)\n",
    "gbc.fit(X_train,y_train)"
   ]
  },
  {
   "cell_type": "code",
   "execution_count": 26,
   "metadata": {},
   "outputs": [
    {
     "data": {
      "text/plain": [
       "0.6469458317326162"
      ]
     },
     "execution_count": 26,
     "metadata": {},
     "output_type": "execute_result"
    }
   ],
   "source": [
    "gbc.score(X_test,y_test)"
   ]
  },
  {
   "cell_type": "markdown",
   "metadata": {},
   "source": [
    "- Let's remove punctuation and use the Snowball stemmer on our original dataset"
   ]
  },
  {
   "cell_type": "code",
   "execution_count": 3,
   "metadata": {},
   "outputs": [],
   "source": [
    "clean= pd.read_pickle('data/sentences.pkl')"
   ]
  },
  {
   "cell_type": "code",
   "execution_count": 33,
   "metadata": {},
   "outputs": [],
   "source": [
    "X = vectorize.fit_transform(clean.posts)\n",
    "y = clean.type\n",
    "X_train,X_test,y_train,y_test = train_test_split(X,y,test_size=0.3, random_state=29)"
   ]
  },
  {
   "cell_type": "code",
   "execution_count": 34,
   "metadata": {},
   "outputs": [
    {
     "data": {
      "text/plain": [
       "0.650787552823665"
      ]
     },
     "execution_count": 34,
     "metadata": {},
     "output_type": "execute_result"
    }
   ],
   "source": [
    "gbc.fit(X_train,y_train)\n",
    "gbc.score(X_test,y_test)"
   ]
  },
  {
   "cell_type": "markdown",
   "metadata": {},
   "source": [
    "- The additional cleaning got us to 65%"
   ]
  },
  {
   "cell_type": "code",
   "execution_count": 35,
   "metadata": {},
   "outputs": [],
   "source": [
    "y_pred = gbc.predict(X_test)\n",
    "check = pd.DataFrame(y_test)\n",
    "check.reset_index(drop=True,inplace=True)\n",
    "y_check = pd.Series(y_pred)\n",
    "check = pd.concat((check,y_check),axis=1)\n",
    "check.columns = ['y_test','y_pred']\n",
    "yt= check.groupby('y_test').agg({'y_test':'count'})\n",
    "yp = check.groupby('y_pred').agg({'y_pred':'count'})\n",
    "yt.columns = ['count']\n",
    "yp.columns = ['count']\n",
    "yt.reset_index(inplace=True)\n",
    "yp.reset_index(inplace=True)\n",
    "yt.columns = ['Type','test_count']\n",
    "yp.columns = ['Type','pred_count']\n",
    "typecount = pd.merge(yp, yt, on='Type')"
   ]
  },
  {
   "cell_type": "code",
   "execution_count": 36,
   "metadata": {},
   "outputs": [
    {
     "data": {
      "image/png": "[encoded data removed]",
      "text/plain": [
       "<Figure size 1152x720 with 1 Axes>"
      ]
     },
     "metadata": {
      "needs_background": "light"
     },
     "output_type": "display_data"
    }
   ],
   "source": [
    "fig, ax1 = plt.subplots(figsize=(16,10))\n",
    "\n",
    "indices = range(len(typecount.Type))\n",
    "width = np.min(np.diff(indices))/3.\n",
    "ax1.set_xlabel('Personality Type',size = 40)\n",
    "ax1.set_ylabel('Count',size=40)\n",
    "ax1.bar(indices-width/2.,typecount.test_count,width,color='darkviolet',label='y_test')\n",
    "ax1.bar(indices+width/2.,typecount.pred_count,width,color='darkcyan',label='y_pred')\n",
    "ax1.set_xticklabels(typecount.Type.unique())\n",
    "ax1.tick_params(axis='y')\n",
    "\n",
    "plt.yticks(size=30)\n",
    "plt.xticks(range(len(typecount.Type)), rotation=45,size=20)\n",
    "ax1.legend(prop={'size': 20})\n",
    "fig.tight_layout()"
   ]
  },
  {
   "cell_type": "markdown",
   "metadata": {},
   "source": [
    "- Let's switch gears and try an even cleaner data set where we remove stop words.\n",
    "- In addition, we will print out a summary in order to gauge how our model is performing"
   ]
  },
  {
   "cell_type": "code",
   "execution_count": 2,
   "metadata": {},
   "outputs": [],
   "source": [
    "sent2 = pd.read_pickle('data/sent2.pkl')\n",
    "X = sent2.posts\n",
    "y = sent2.type\n",
    "X_train, X_test, y_train, y_test = train_test_split(X, y, test_size=0.3, random_state = 29)"
   ]
  },
  {
   "cell_type": "code",
   "execution_count": 6,
   "metadata": {},
   "outputs": [
    {
     "name": "stdout",
     "output_type": "stream",
     "text": [
      "CPU times: user 4 µs, sys: 1 µs, total: 5 µs\n",
      "Wall time: 10 µs\n",
      "accuracy 0.22051479062620052\n",
      "              precision    recall  f1-score   support\n",
      "\n",
      "        ENFJ       0.00      0.00      0.00        53\n",
      "        ENFP       0.00      0.00      0.00       195\n",
      "        ENTJ       0.00      0.00      0.00        80\n",
      "        ENTP       0.00      0.00      0.00       221\n",
      "        ESFJ       0.00      0.00      0.00         8\n",
      "        ESFP       0.00      0.00      0.00        10\n",
      "        ESTJ       0.00      0.00      0.00        11\n",
      "        ESTP       0.00      0.00      0.00        32\n",
      "        INFJ       0.43      0.01      0.01       424\n",
      "        INFP       0.22      1.00      0.36       571\n",
      "        INTJ       0.00      0.00      0.00       321\n",
      "        INTP       0.00      0.00      0.00       391\n",
      "        ISFJ       0.00      0.00      0.00        57\n",
      "        ISFP       0.00      0.00      0.00        83\n",
      "        ISTJ       0.00      0.00      0.00        54\n",
      "        ISTP       0.00      0.00      0.00        92\n",
      "\n",
      "   micro avg       0.22      0.22      0.22      2603\n",
      "   macro avg       0.04      0.06      0.02      2603\n",
      "weighted avg       0.12      0.22      0.08      2603\n",
      "\n"
     ]
    },
    {
     "name": "stderr",
     "output_type": "stream",
     "text": [
      "/anaconda3/lib/python3.7/site-packages/sklearn/metrics/classification.py:1143: UndefinedMetricWarning: Precision and F-score are ill-defined and being set to 0.0 in labels with no predicted samples.\n",
      "  'precision', 'predicted', average, warn_for)\n"
     ]
    }
   ],
   "source": [
    "from sklearn.naive_bayes import MultinomialNB\n",
    "\n",
    "nb = Pipeline([('vect', CountVectorizer()),\n",
    "               ('tfidf', TfidfTransformer()),\n",
    "               ('clf', MultinomialNB()),\n",
    "              ])\n",
    "nb.fit(X_train, y_train)\n",
    "\n",
    "%time\n",
    "y_pred = nb.predict(X_test)\n",
    "print('accuracy %s' % accuracy_score(y_pred, y_test))\n",
    "print(classification_report(y_test, y_pred))"
   ]
  },
  {
   "cell_type": "code",
   "execution_count": 4,
   "metadata": {},
   "outputs": [
    {
     "name": "stdout",
     "output_type": "stream",
     "text": [
      "CPU times: user 4 µs, sys: 1 µs, total: 5 µs\n",
      "Wall time: 10 µs\n",
      "accuracy 0.6626968882059162\n",
      "              precision    recall  f1-score   support\n",
      "\n",
      "        ENFJ       0.60      0.17      0.26        53\n",
      "        ENFP       0.65      0.54      0.59       195\n",
      "        ENTJ       0.80      0.35      0.49        80\n",
      "        ENTP       0.69      0.56      0.62       221\n",
      "        ESFJ       0.67      0.25      0.36         8\n",
      "        ESFP       0.33      0.10      0.15        10\n",
      "        ESTJ       1.00      0.18      0.31        11\n",
      "        ESTP       0.90      0.28      0.43        32\n",
      "        INFJ       0.67      0.72      0.69       424\n",
      "        INFP       0.64      0.88      0.74       571\n",
      "        INTJ       0.62      0.67      0.64       321\n",
      "        INTP       0.69      0.79      0.73       391\n",
      "        ISFJ       0.74      0.40      0.52        57\n",
      "        ISFP       0.72      0.31      0.44        83\n",
      "        ISTJ       0.64      0.33      0.44        54\n",
      "        ISTP       0.75      0.54      0.63        92\n",
      "\n",
      "    accuracy                           0.66      2603\n",
      "   macro avg       0.69      0.44      0.50      2603\n",
      "weighted avg       0.67      0.66      0.65      2603\n",
      "\n"
     ]
    }
   ],
   "source": [
    "from sklearn.linear_model import SGDClassifier\n",
    "\n",
    "sgd = Pipeline([('vect', CountVectorizer()),\n",
    "                ('tfidf', TfidfTransformer()),\n",
    "                ('clf', SGDClassifier(loss='hinge', penalty='l2',alpha=1e-3, random_state=42, max_iter=5, tol=None)),\n",
    "               ])\n",
    "sgd.fit(X_train, y_train)\n",
    "\n",
    "%time\n",
    "\n",
    "y_pred = sgd.predict(X_test)\n",
    "\n",
    "print('accuracy %s' % accuracy_score(y_pred, y_test))\n",
    "print(classification_report(y_test, y_pred))"
   ]
  },
  {
   "cell_type": "code",
   "execution_count": 5,
   "metadata": {},
   "outputs": [],
   "source": [
    "import pickle\n",
    "pickle.dump(sgd,open('sgd.p','wb'))"
   ]
  },
  {
   "cell_type": "code",
   "execution_count": 17,
   "metadata": {},
   "outputs": [
    {
     "data": {
      "text/plain": [
       "array(['INTP'], dtype='<U4')"
      ]
     },
     "execution_count": 17,
     "metadata": {},
     "output_type": "execute_result"
    }
   ],
   "source": [
    "me = \"I think I've learned a lot of information in this class, I can do so much more than when I started this cohort but I know I'm still not at my best. I have a lot to learn and I will put the effort in to get there.that moment when you realize your model predicts the same thing over and over. not a good feeling\"\n",
    "sgd.predict([me])"
   ]
  },
  {
   "cell_type": "code",
   "execution_count": 83,
   "metadata": {},
   "outputs": [
    {
     "name": "stdout",
     "output_type": "stream",
     "text": [
      "CPU times: user 4 µs, sys: 1 µs, total: 5 µs\n",
      "Wall time: 9.06 µs\n",
      "accuracy 0.6300422589320015\n",
      "              precision    recall  f1-score   support\n",
      "\n",
      "        ENFJ       0.69      0.45      0.55        53\n",
      "        ENFP       0.60      0.59      0.60       195\n",
      "        ENTJ       0.72      0.42      0.54        80\n",
      "        ENTP       0.67      0.55      0.60       221\n",
      "        ESFJ       0.50      0.38      0.43         8\n",
      "        ESFP       0.50      0.10      0.17        10\n",
      "        ESTJ       0.40      0.18      0.25        11\n",
      "        ESTP       0.82      0.28      0.42        32\n",
      "        INFJ       0.60      0.70      0.65       424\n",
      "        INFP       0.66      0.78      0.71       571\n",
      "        INTJ       0.59      0.58      0.58       321\n",
      "        INTP       0.63      0.71      0.67       391\n",
      "        ISFJ       0.67      0.46      0.54        57\n",
      "        ISFP       0.55      0.37      0.45        83\n",
      "        ISTJ       0.71      0.37      0.49        54\n",
      "        ISTP       0.63      0.51      0.56        92\n",
      "\n",
      "   micro avg       0.63      0.63      0.63      2603\n",
      "   macro avg       0.62      0.47      0.51      2603\n",
      "weighted avg       0.63      0.63      0.62      2603\n",
      "\n"
     ]
    }
   ],
   "source": [
    "from sklearn.linear_model import LogisticRegression\n",
    "\n",
    "logreg = Pipeline([('vect', CountVectorizer()),\n",
    "                ('tfidf', TfidfTransformer()),\n",
    "                ('clf', LogisticRegression(n_jobs=1, C=1e5)),\n",
    "               ])\n",
    "logreg.fit(X_train, y_train)\n",
    "\n",
    "%time\n",
    "\n",
    "y_pred = logreg.predict(X_test)\n",
    "\n",
    "print('accuracy %s' % accuracy_score(y_pred, y_test))\n",
    "print(classification_report(y_test, y_pred))"
   ]
  },
  {
   "cell_type": "code",
   "execution_count": 85,
   "metadata": {},
   "outputs": [
    {
     "name": "stdout",
     "output_type": "stream",
     "text": [
      "CPU times: user 2 µs, sys: 1e+03 ns, total: 3 µs\n",
      "Wall time: 7.15 µs\n",
      "accuracy 0.6465616596235113\n",
      "              precision    recall  f1-score   support\n",
      "\n",
      "        ENFJ       0.52      0.28      0.37        53\n",
      "        ENFP       0.64      0.56      0.60       195\n",
      "        ENTJ       0.77      0.38      0.50        80\n",
      "        ENTP       0.71      0.53      0.61       221\n",
      "        ESFJ       0.50      0.38      0.43         8\n",
      "        ESFP       0.60      0.30      0.40        10\n",
      "        ESTJ       0.50      0.27      0.35        11\n",
      "        ESTP       0.67      0.38      0.48        32\n",
      "        INFJ       0.65      0.72      0.69       424\n",
      "        INFP       0.61      0.84      0.71       571\n",
      "        INTJ       0.65      0.59      0.62       321\n",
      "        INTP       0.68      0.74      0.71       391\n",
      "        ISFJ       0.57      0.37      0.45        57\n",
      "        ISFP       0.67      0.42      0.52        83\n",
      "        ISTJ       0.62      0.48      0.54        54\n",
      "        ISTP       0.68      0.51      0.58        92\n",
      "\n",
      "   micro avg       0.65      0.65      0.65      2603\n",
      "   macro avg       0.63      0.48      0.53      2603\n",
      "weighted avg       0.65      0.65      0.64      2603\n",
      "\n"
     ]
    }
   ],
   "source": [
    "gbc = Pipeline([('vect', CountVectorizer()),\n",
    "                ('tfidf', TfidfTransformer()),\n",
    "                ('clf', GradientBoostingClassifier(n_estimators=100, learning_rate=.01,\n",
    "                                 max_depth=3, random_state=29)),\n",
    "               ])\n",
    "\n",
    "gbc.fit(X_train,y_train)\n",
    "\n",
    "%time\n",
    "\n",
    "y_pred = gbc.predict(X_test)\n",
    "\n",
    "print('accuracy %s' % accuracy_score(y_pred, y_test))\n",
    "print(classification_report(y_test, y_pred))"
   ]
  },
  {
   "cell_type": "code",
   "execution_count": 10,
   "metadata": {},
   "outputs": [
    {
     "name": "stdout",
     "output_type": "stream",
     "text": [
      "CPU times: user 3 µs, sys: 1e+03 ns, total: 4 µs\n",
      "Wall time: 5.96 µs\n",
      "accuracy 0.6699961582789089\n",
      "              precision    recall  f1-score   support\n",
      "\n",
      "        ENFJ       0.75      0.17      0.28        53\n",
      "        ENFP       0.66      0.60      0.63       195\n",
      "        ENTJ       0.74      0.36      0.49        80\n",
      "        ENTP       0.70      0.57      0.63       221\n",
      "        ESFJ       0.67      0.25      0.36         8\n",
      "        ESFP       0.50      0.10      0.17        10\n",
      "        ESTJ       1.00      0.09      0.17        11\n",
      "        ESTP       0.64      0.22      0.33        32\n",
      "        INFJ       0.65      0.77      0.70       424\n",
      "        INFP       0.69      0.85      0.76       571\n",
      "        INTJ       0.66      0.65      0.66       321\n",
      "        INTP       0.66      0.80      0.72       391\n",
      "        ISFJ       0.74      0.35      0.48        57\n",
      "        ISFP       0.66      0.37      0.48        83\n",
      "        ISTJ       0.76      0.30      0.43        54\n",
      "        ISTP       0.66      0.57      0.61        92\n",
      "\n",
      "   micro avg       0.67      0.67      0.67      2603\n",
      "   macro avg       0.70      0.44      0.49      2603\n",
      "weighted avg       0.68      0.67      0.65      2603\n",
      "\n",
      "[[  9   5   0   3   0   0   0   0  11  16   1   4   0   0   1   3]\n",
      " [  0 117   2   5   0   0   0   1  25  23  13   7   0   1   0   1]\n",
      " [  2   7  29   6   0   0   0   1   4   7   9  12   1   1   0   1]\n",
      " [  0  10   2 126   0   0   0   0  19  20  18  20   0   6   0   0]\n",
      " [  0   0   0   0   2   0   0   0   0   1   0   4   1   0   0   0]\n",
      " [  0   2   0   1   1   1   0   0   2   1   0   2   0   0   0   0]\n",
      " [  0   0   0   4   0   0   1   0   1   4   1   0   0   0   0   0]\n",
      " [  0   1   1   4   0   0   0   7   6   1   1   4   1   0   0   6]\n",
      " [  0   6   2   8   0   0   0   0 327  51  13  15   1   0   0   1]\n",
      " [  1   9   1  10   0   0   0   0  18 484  13  23   0   4   2   6]\n",
      " [  0   3   1   2   0   1   0   0  37  26 208  38   1   1   1   2]\n",
      " [  0   3   1   7   0   0   0   1  21  26  14 314   0   0   0   4]\n",
      " [  0   4   0   0   0   0   0   0  12   6   6   8  20   1   0   0]\n",
      " [  0   2   0   0   0   0   0   0  10  25   4   7   1  31   1   2]\n",
      " [  0   6   0   0   0   0   0   0   5  10   8   7   1   0  16   1]\n",
      " [  0   3   0   3   0   0   0   1   7   5   5  14   0   2   0  52]]\n"
     ]
    }
   ],
   "source": [
    "sgd = Pipeline([('vect', TfidfVectorizer(lowercase=True, stop_words=None,max_features=5000,ngram_range=(1,2))),\n",
    "                ('clf', SGDClassifier(loss='hinge', penalty='l2',alpha=1e-3, random_state=42, max_iter=5, tol=None)),\n",
    "               ])\n",
    "sgd.fit(X_train, y_train)\n",
    "\n",
    "%time\n",
    "\n",
    "y_pred = sgd.predict(X_test)\n",
    "\n",
    "print('accuracy %s' % accuracy_score(y_pred, y_test))\n",
    "print(classification_report(y_test, y_pred))\n",
    "print(confusion_matrix(y_test,y_pred))"
   ]
  },
  {
   "cell_type": "code",
   "execution_count": null,
   "metadata": {},
   "outputs": [],
   "source": []
  }
 ],
 "metadata": {
  "kernelspec": {
   "display_name": "Python 3",
   "language": "python",
   "name": "python3"
  },
  "language_info": {
   "codemirror_mode": {
    "name": "ipython",
    "version": 3
   },
   "file_extension": ".py",
   "mimetype": "text/x-python",
   "name": "python",
   "nbconvert_exporter": "python",
   "pygments_lexer": "ipython3",
   "version": "3.7.1"
  }
 },
 "nbformat": 4,
 "nbformat_minor": 2
}
